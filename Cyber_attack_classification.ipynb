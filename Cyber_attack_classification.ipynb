{
 "cells": [
  {
   "cell_type": "code",
   "execution_count": 1,
   "metadata": {
    "id": "WSro0IXhiV9N"
   },
   "outputs": [
    {
     "data": {
      "text/plain": [
       "'OM GAM GANADI PATHAYE NAMAHA!!'"
      ]
     },
     "execution_count": 1,
     "metadata": {},
     "output_type": "execute_result"
    }
   ],
   "source": [
    "\"OM GAM GANADI PATHAYE NAMAHA!!\""
   ]
  },
  {
   "cell_type": "code",
   "execution_count": null,
   "metadata": {
    "id": "u3MoIOV4nOb8"
   },
   "outputs": [],
   "source": []
  },
  {
   "cell_type": "code",
   "execution_count": 2,
   "metadata": {
    "id": "JBh-J2ytiyW1"
   },
   "outputs": [],
   "source": [
    "import pandas as pd\n",
    "import numpy as np\n",
    "import matplotlib.pyplot as plt\n",
    "import seaborn as sns\n",
    "from sklearn.preprocessing import MinMaxScaler, StandardScaler"
   ]
  },
  {
   "cell_type": "code",
   "execution_count": null,
   "metadata": {},
   "outputs": [],
   "source": []
  },
  {
   "cell_type": "code",
   "execution_count": 3,
   "metadata": {
    "id": "A6N-HAqE8qHG"
   },
   "outputs": [],
   "source": [
    "network_scaler = MinMaxScaler()\n",
    "system_scaler = StandardScaler()"
   ]
  },
  {
   "cell_type": "markdown",
   "metadata": {
    "id": "PKQFG5w58rIM",
    "jp-MarkdownHeadingCollapsed": true
   },
   "source": [
    "##  TASK - 0 : Load Dataset"
   ]
  },
  {
   "cell_type": "markdown",
   "metadata": {
    "id": "jb1ZaRWt7MsC",
    "jp-MarkdownHeadingCollapsed": true
   },
   "source": [
    "### Normal Network Data & System Data"
   ]
  },
  {
   "cell_type": "code",
   "execution_count": 4,
   "metadata": {
    "id": "Icr1sEgy7Ksx"
   },
   "outputs": [],
   "source": [
    "normal_network = []\n",
    "normal_system  = []\n",
    "\n",
    "for i in range(1,11):\n",
    "  normal_network.append(pd.read_csv(\"All DATASET files/NORMAL/NORMAL NETWORK/Normal_network_final_\"+str(i)+\".csv\"))\n",
    "  normal_system.append(pd.read_csv(\"All DATASET files/NORMAL/NORMAL SYSTEM/Normal_system_final_\"+str(i)+\".csv\"))"
   ]
  },
  {
   "cell_type": "markdown",
   "metadata": {
    "id": "v4YKIqy_8Bso"
   },
   "source": [
    "### DoS Network Data & System Data"
   ]
  },
  {
   "cell_type": "code",
   "execution_count": 5,
   "metadata": {
    "id": "CooCp-HG8Awm"
   },
   "outputs": [],
   "source": [
    "dos_network = []\n",
    "dos_system  = []\n",
    "\n",
    "for i in range(1,9):\n",
    "  dos_network.append(pd.read_csv(\"All DATASET files/DOS/DOS NETWORK/DoS_synflood_network_\"+str(i)+\".csv\"))\n",
    "  dos_system.append(pd.read_csv(\"All DATASET files/DOS/DOS SYSTEM/DoS_synflood_system_\"+str(i)+\".csv\"))"
   ]
  },
  {
   "cell_type": "markdown",
   "metadata": {
    "id": "ArxQByII69rm"
   },
   "source": [
    "### DDoS Network Data & System Data"
   ]
  },
  {
   "cell_type": "code",
   "execution_count": 6,
   "metadata": {
    "id": "qngjG3A-nKI0"
   },
   "outputs": [],
   "source": [
    "ddos_network = []\n",
    "ddos_system  = []\n",
    "\n",
    "for i in range(1,14):\n",
    "  ddos_network.append(pd.read_csv(\"All DATASET files/DDOS/DDOS NETWORK/DDoS_hping_network_\"+str(i)+\".csv\"))\n",
    "  ddos_system.append(pd.read_csv(\"All DATASET files/DDOS/DDOS SYSTEM/DDoS_hping_system_\"+str(i)+\".csv\"))"
   ]
  },
  {
   "cell_type": "code",
   "execution_count": null,
   "metadata": {
    "id": "8IhdCrNRRtLu"
   },
   "outputs": [],
   "source": []
  },
  {
   "cell_type": "markdown",
   "metadata": {
    "id": "VFY_9E4m9dem"
   },
   "source": [
    "## TASK - 1 : Grouping of Network dataset based on `Timestamp, Protocol, Src Port, Dst Port`\n"
   ]
  },
  {
   "cell_type": "code",
   "execution_count": 7,
   "metadata": {
    "id": "G2ky5Wz5WBpG"
   },
   "outputs": [],
   "source": [
    "agg_dict = {\n",
    "       'Flow Duration'     : 'mean',\n",
    "       'Tot Fwd Pkts'      : 'sum',\n",
    "       'Tot Bwd Pkts'      : 'sum',\n",
    "       'TotLen Fwd Pkts'   : 'mean',\n",
    "       'TotLen Bwd Pkts'   : 'mean',\n",
    "       'Fwd Pkt Len Max'   : 'max',\n",
    "       'Fwd Pkt Len Min'   : 'min',\n",
    "       'Fwd Pkt Len Mean'  : 'mean',\n",
    "       'Fwd Pkt Len Std'   : 'mean',\n",
    "       'Bwd Pkt Len Max'   : 'max',\n",
    "       'Bwd Pkt Len Min'   : 'min',\n",
    "       'Bwd Pkt Len Mean'  : 'mean',\n",
    "       'Bwd Pkt Len Std'   : 'mean',\n",
    "       'Flow Byts/s'       : 'mean',\n",
    "       'Flow Pkts/s'       : 'mean',\n",
    "       'Flow IAT Mean'     : 'mean',\n",
    "       'Flow IAT Std'      : 'mean',\n",
    "       'Flow IAT Max'      : 'max',\n",
    "       'Flow IAT Min'      : 'min',\n",
    "       'Fwd IAT Tot'       : 'mean',\n",
    "       'Fwd IAT Mean'      : 'mean',\n",
    "       'Fwd IAT Std'       : 'mean',\n",
    "       'Fwd IAT Max'       : 'max',\n",
    "       'Fwd IAT Min'       : 'min',\n",
    "       'Bwd IAT Tot'       : 'mean',\n",
    "       'Bwd IAT Mean'      : 'mean',\n",
    "       'Bwd IAT Std'       : 'mean',\n",
    "       'Bwd IAT Max'       : 'max',\n",
    "       'Bwd IAT Min'       : 'min',\n",
    "       'Fwd PSH Flags'     : 'mean',\n",
    "       'Bwd PSH Flags'     : 'mean',\n",
    "       'Fwd URG Flags'     : 'mean',\n",
    "       'Bwd URG Flags'     : 'mean',\n",
    "       'Fwd Header Len'    : 'mean',\n",
    "       'Bwd Header Len'    : 'mean',\n",
    "       'Fwd Pkts/s'        : 'mean',\n",
    "       'Bwd Pkts/s'        : 'mean',\n",
    "       'Pkt Len Min'       : 'min',\n",
    "       'Pkt Len Max'       : 'max',\n",
    "       'Pkt Len Mean'      : 'mean',\n",
    "       'Pkt Len Std'       : 'mean',\n",
    "       'Pkt Len Var'       : 'mean',\n",
    "       'FIN Flag Cnt'      : 'sum',\n",
    "       'SYN Flag Cnt'      : 'sum',\n",
    "       'RST Flag Cnt'      : 'sum',\n",
    "       'PSH Flag Cnt'      : 'sum',\n",
    "       'ACK Flag Cnt'      : 'sum',\n",
    "       'URG Flag Cnt'      : 'sum',\n",
    "       'CWE Flag Count'    : 'sum',\n",
    "       'ECE Flag Cnt'      : 'sum',\n",
    "       'Down/Up Ratio'     : 'mean',\n",
    "       'Pkt Size Avg'      : 'mean',\n",
    "       'Fwd Seg Size Avg'  : 'mean',\n",
    "       'Bwd Seg Size Avg'  : 'mean',\n",
    "       'Fwd Byts/b Avg'    : 'mean',\n",
    "       'Fwd Pkts/b Avg'    : 'mean',\n",
    "       'Fwd Blk Rate Avg'  : 'mean',\n",
    "       'Bwd Byts/b Avg'    : 'mean',\n",
    "       'Bwd Pkts/b Avg'    : 'mean',\n",
    "       'Bwd Blk Rate Avg'  : 'mean',\n",
    "       'Subflow Fwd Pkts'  : 'mean',\n",
    "       'Subflow Fwd Byts'  : 'mean',\n",
    "       'Subflow Bwd Pkts'  : 'mean',\n",
    "       'Subflow Bwd Byts'  : 'mean',\n",
    "       'Init Fwd Win Byts' : 'mean',\n",
    "       'Init Bwd Win Byts' : 'mean',\n",
    "       'Fwd Act Data Pkts' : 'sum',\n",
    "       'Fwd Seg Size Min'  : 'min',\n",
    "       'Active Mean'       : 'mean',\n",
    "       'Active Std'        : 'mean',\n",
    "       'Active Max'        : 'max',\n",
    "       'Active Min'        : 'min',\n",
    "       'Idle Mean'         : 'mean',\n",
    "       'Idle Std'          : 'mean',\n",
    "       'Idle Max'          : 'max',\n",
    "       'Idle Min'          : 'min'\n",
    "  }"
   ]
  },
  {
   "cell_type": "code",
   "execution_count": 8,
   "metadata": {
    "id": "TgIRZ2zIS8RN"
   },
   "outputs": [],
   "source": [
    "key_columns = [\"Timestamp\", \"Protocol\", \"Src Port\", \"Dst Port\"]\n",
    "columns_to_scale = list(agg_dict.keys())\n",
    "system_columns = ['Memory(% Committed Bytes In Use)', 'Network Interface(Current Bandwidth)', 'PhysicalDisk(% Disk Time)', 'PhysicalDisk(Disk Reads/sec)', 'PhysicalDisk(Disk Writes/sec)', 'PhysicalDisk(Current Disk Queue Length)', 'Processor(% Processor Time)', 'Processor Information(% Processor Performance)', 'Processor Information(% Processor Utility)', 'Processor Information(% Processor Time)']"
   ]
  },
  {
   "cell_type": "code",
   "execution_count": 9,
   "metadata": {
    "id": "0q0y8uuSinRp"
   },
   "outputs": [],
   "source": [
    "# Min-Max Normalization\n",
    "def min_max_normalization(df):\n",
    "  scaled_df = df.drop(key_columns+system_columns, axis=1)\n",
    "  scaled_data = network_scaler.fit_transform(scaled_df)\n",
    "  scaled_df = pd.DataFrame(scaled_data, columns = columns_to_scale)\n",
    "  df = pd.concat([df[key_columns+system_columns],scaled_df], axis=1)\n",
    "  return df"
   ]
  },
  {
   "cell_type": "code",
   "execution_count": 10,
   "metadata": {
    "id": "vZoYjkRLWBlh"
   },
   "outputs": [],
   "source": [
    "def aggregate_dataset_based_on_timestamp(df):\n",
    "  df = df.drop([\"Flow ID\",\"Src IP\",\"Dst IP\"], axis=1)\n",
    "  df['Timestamp'] = pd.to_datetime(df['Date'] + ' ' + df['Time'], dayfirst=True)\n",
    "  df = df.drop([\"Date\",\"Time\"], axis=1)\n",
    "  df = df.groupby(key_columns).agg(agg_dict)\n",
    "\n",
    "  # Interpolate NULL values\n",
    "  df[\"Flow Byts/s\"] = df[\"Flow Byts/s\"].interpolate(method='linear')\n",
    "\n",
    "  # Handling 'inf' values by applying HIGH THRESHOLDING & LOG TRANSFORMATION\n",
    "  for col in [\"Flow Byts/s\", \"Flow Pkts/s\"]:\n",
    "     # Clip at the 99th percentile\n",
    "    df[col] = df[col].replace([np.inf, -np.inf], np.nan)\n",
    "    max_value = (df[col].quantile(0.99))**10\n",
    "    df[col] = df[col].fillna(max_value)\n",
    "    df[col] = np.log1p(df[col])    # Apply log transformation\n",
    "  df = df.reset_index()\n",
    "  return df"
   ]
  },
  {
   "cell_type": "markdown",
   "metadata": {
    "id": "17dniFHy-p0w"
   },
   "source": [
    "#### Aggregation of Normal Network Traffic\n"
   ]
  },
  {
   "cell_type": "code",
   "execution_count": 11,
   "metadata": {
    "id": "hPmdAZ8dWBiJ"
   },
   "outputs": [],
   "source": [
    "grouped_normal_network = []\n",
    "for normal_network_data in normal_network:\n",
    "  grouped_normal_network.append(aggregate_dataset_based_on_timestamp(normal_network_data))"
   ]
  },
  {
   "cell_type": "markdown",
   "metadata": {
    "id": "2etEqoZcQh-V"
   },
   "source": [
    "#### Aggregation of DoS Network Traffic\n",
    "\n"
   ]
  },
  {
   "cell_type": "code",
   "execution_count": 12,
   "metadata": {
    "id": "c9RRBV1IQjFp"
   },
   "outputs": [],
   "source": [
    "grouped_dos_network = []\n",
    "for dos_network_data in dos_network:\n",
    "  grouped_dos_network.append(aggregate_dataset_based_on_timestamp(dos_network_data))"
   ]
  },
  {
   "cell_type": "markdown",
   "metadata": {
    "id": "L5-znkJtQ8m2"
   },
   "source": [
    "#### Aggregation of DDoS Network Traffic\n",
    "\n"
   ]
  },
  {
   "cell_type": "code",
   "execution_count": 13,
   "metadata": {
    "id": "4AiZ0NuSQ9ai"
   },
   "outputs": [],
   "source": [
    "grouped_ddos_network = []\n",
    "for ddos_network_data in ddos_network:\n",
    "  grouped_ddos_network.append(aggregate_dataset_based_on_timestamp(ddos_network_data))"
   ]
  },
  {
   "cell_type": "code",
   "execution_count": null,
   "metadata": {
    "id": "mS0OCfvGRN7x"
   },
   "outputs": [],
   "source": []
  },
  {
   "cell_type": "markdown",
   "metadata": {
    "id": "PPxQObeLTDK7"
   },
   "source": [
    "## TASK - 2 : Mapping of Network dataset to System dataset based on `Timestamp`\n"
   ]
  },
  {
   "cell_type": "code",
   "execution_count": 14,
   "metadata": {
    "id": "lqBCBfDrjj1p"
   },
   "outputs": [],
   "source": [
    "# Z-score normalization\n",
    "def z_score_normalization(df):\n",
    "  scaled_data = system_scaler.fit_transform(df[system_columns])\n",
    "  scaled_df = pd.DataFrame(scaled_data, columns = system_columns)\n",
    "  df = df.drop(system_columns, axis=1)\n",
    "  df = pd.concat([df, scaled_df], axis=1)\n",
    "  return df"
   ]
  },
  {
   "cell_type": "code",
   "execution_count": 15,
   "metadata": {
    "id": "cAAS4w8XTCNc"
   },
   "outputs": [],
   "source": [
    "def merge_network_system(network, system, label):\n",
    "  system['Timestamp'] = pd.to_datetime(system['Date'] + ' ' + system['Time'], dayfirst=True)\n",
    "  system = system.drop([\"Date\",\"Time\"], axis=1)\n",
    "\n",
    "  # Merge operation\n",
    "  merged_df = pd.merge(network, system, on='Timestamp', how='left')\n",
    "  merged_df = merged_df.dropna()\n",
    "  merged_df = merged_df.reset_index(drop=True)\n",
    "\n",
    "  for col in system_columns:\n",
    "    merged_df[col] = pd.to_numeric(merged_df[col], errors='coerce')\n",
    "    merged_df[col] = merged_df[col].interpolate(method='linear')\n",
    "  merged_df = merged_df.reset_index(drop=True)\n",
    "\n",
    "  # Labelling\n",
    "  merged_df[\"Label\"] = label\n",
    "\n",
    "  return merged_df"
   ]
  },
  {
   "cell_type": "code",
   "execution_count": null,
   "metadata": {
    "id": "dxT90bOPcBWu"
   },
   "outputs": [],
   "source": []
  },
  {
   "cell_type": "markdown",
   "metadata": {
    "id": "Njw6U5n_VAmM"
   },
   "source": [
    "#### Merging of Normal dataset"
   ]
  },
  {
   "cell_type": "code",
   "execution_count": 16,
   "metadata": {
    "id": "tTTYFTV5VC1W"
   },
   "outputs": [],
   "source": [
    "merged_normal = []\n",
    "for grouped_normal_network_data,normal_system_data in zip(grouped_normal_network,normal_system):\n",
    "    merged_normal.append(merge_network_system(grouped_normal_network_data,normal_system_data,0))"
   ]
  },
  {
   "cell_type": "markdown",
   "metadata": {
    "id": "6aEhcmB2U78m"
   },
   "source": [
    "#### Merging of DoS dataset"
   ]
  },
  {
   "cell_type": "code",
   "execution_count": 17,
   "metadata": {
    "id": "kO0rjKyRVCey"
   },
   "outputs": [],
   "source": [
    "merged_dos = []\n",
    "for grouped_dos_network_data, dos_system_data in zip(grouped_dos_network,dos_system):\n",
    "  merged_dos.append(merge_network_system(grouped_dos_network_data,dos_system_data,1))"
   ]
  },
  {
   "cell_type": "markdown",
   "metadata": {
    "id": "lYCzHAqSUdFv"
   },
   "source": [
    "#### Merging of DDoS dataset"
   ]
  },
  {
   "cell_type": "code",
   "execution_count": 18,
   "metadata": {
    "id": "kNVusyGpTCHJ"
   },
   "outputs": [],
   "source": [
    "merged_ddos = []\n",
    "for grouped_ddos_network_data, ddos_system_data in zip(grouped_ddos_network, ddos_system):\n",
    "  merged_ddos.append(merge_network_system(grouped_ddos_network_data, ddos_system_data,2))"
   ]
  },
  {
   "cell_type": "code",
   "execution_count": null,
   "metadata": {
    "id": "OnnuJNXulCIL"
   },
   "outputs": [],
   "source": []
  },
  {
   "cell_type": "markdown",
   "metadata": {
    "id": "FOSn2ReSv_8P",
    "jp-MarkdownHeadingCollapsed": true
   },
   "source": [
    "### Removing less important features"
   ]
  },
  {
   "cell_type": "code",
   "execution_count": 19,
   "metadata": {
    "id": "-bCeobWdv58F"
   },
   "outputs": [],
   "source": [
    "normal = pd.concat(merged_normal)\n",
    "dos    = pd.concat(merged_dos)\n",
    "ddos   = pd.concat(merged_ddos)\n",
    "\n",
    "whole_dataset = pd.concat([normal,dos,ddos]).reset_index(drop=True)"
   ]
  },
  {
   "cell_type": "code",
   "execution_count": 20,
   "metadata": {
    "colab": {
     "base_uri": "https://localhost:8080/"
    },
    "id": "Pt2nadhB2KfE",
    "outputId": "be368060-11fe-41df-d108-fff5f200f1a7"
   },
   "outputs": [
    {
     "data": {
      "text/plain": [
       "((96547, 91), (98055, 91), (100873, 91), (295475, 91))"
      ]
     },
     "execution_count": 20,
     "metadata": {},
     "output_type": "execute_result"
    }
   ],
   "source": [
    "normal.shape, dos.shape, ddos.shape, whole_dataset.shape"
   ]
  },
  {
   "cell_type": "code",
   "execution_count": 21,
   "metadata": {
    "id": "RgP6MpvIhqkN"
   },
   "outputs": [],
   "source": [
    "whole_dataset.to_csv(\"All DATASET files/Raw Dataset.csv\", index=False)"
   ]
  },
  {
   "cell_type": "code",
   "execution_count": 21,
   "metadata": {
    "colab": {
     "base_uri": "https://localhost:8080/"
    },
    "id": "MCn0rdRzv54e",
    "outputId": "8bc813c8-ffa0-4bc9-bf49-09a767576486"
   },
   "outputs": [
    {
     "name": "stdout",
     "output_type": "stream",
     "text": [
      "14\n"
     ]
    },
    {
     "data": {
      "text/plain": [
       "['Fwd PSH Flags',\n",
       " 'Fwd URG Flags',\n",
       " 'Bwd URG Flags',\n",
       " 'URG Flag Cnt',\n",
       " 'CWE Flag Count',\n",
       " 'ECE Flag Cnt',\n",
       " 'Fwd Byts/b Avg',\n",
       " 'Fwd Pkts/b Avg',\n",
       " 'Fwd Blk Rate Avg',\n",
       " 'Bwd Byts/b Avg',\n",
       " 'Bwd Pkts/b Avg',\n",
       " 'Bwd Blk Rate Avg',\n",
       " 'Init Fwd Win Byts',\n",
       " 'Fwd Seg Size Min']"
      ]
     },
     "execution_count": 21,
     "metadata": {},
     "output_type": "execute_result"
    }
   ],
   "source": [
    "single_value_columns = [col for col in whole_dataset.columns if whole_dataset[col].nunique() == 1]\n",
    "print(len(single_value_columns))\n",
    "single_value_columns"
   ]
  },
  {
   "cell_type": "code",
   "execution_count": 22,
   "metadata": {
    "id": "oUhe1Psjv50v"
   },
   "outputs": [],
   "source": [
    "for i in range(len(merged_normal)):\n",
    "  merged_normal[i] = merged_normal[i].drop(single_value_columns, axis=1)\n",
    "\n",
    "for i in range(len(merged_dos)):\n",
    "  merged_dos[i] = merged_dos[i].drop(single_value_columns, axis=1)\n",
    "\n",
    "for i in range(len(merged_ddos)):\n",
    "  merged_ddos[i] = merged_ddos[i].drop(single_value_columns, axis=1)\n",
    "\n",
    "whole_dataset = whole_dataset.drop(single_value_columns, axis=1)\n",
    "\n",
    "for val in single_value_columns:\n",
    "  columns_to_scale.remove(val)"
   ]
  },
  {
   "cell_type": "code",
   "execution_count": 23,
   "metadata": {
    "colab": {
     "base_uri": "https://localhost:8080/"
    },
    "id": "ognkPa12v5wL",
    "outputId": "97911460-6ead-4260-94c2-e28d703d21c4"
   },
   "outputs": [
    {
     "data": {
      "text/plain": [
       "(295475, 77)"
      ]
     },
     "execution_count": 23,
     "metadata": {},
     "output_type": "execute_result"
    }
   ],
   "source": [
    "whole_dataset.shape"
   ]
  },
  {
   "cell_type": "code",
   "execution_count": 24,
   "metadata": {
    "id": "d3jHXeqG5z0A"
   },
   "outputs": [],
   "source": [
    "whole_dataset_train = whole_dataset.drop([\"Label\"], axis=1)\n",
    "whole_dataset_label = whole_dataset[\"Label\"]"
   ]
  },
  {
   "cell_type": "code",
   "execution_count": 25,
   "metadata": {
    "id": "GURce5_geIfk"
   },
   "outputs": [],
   "source": [
    "whole_dataset_train = whole_dataset_train.reset_index(drop=True)\n",
    "whole_dataset_train = min_max_normalization(whole_dataset_train)\n",
    "whole_dataset_train = z_score_normalization(whole_dataset_train)\n",
    "whole_dataset_train = whole_dataset_train.drop([\"Timestamp\"], axis=1)"
   ]
  },
  {
   "cell_type": "code",
   "execution_count": 26,
   "metadata": {
    "colab": {
     "base_uri": "https://localhost:8080/"
    },
    "id": "-3UMOBRVn70U",
    "outputId": "0f20adf9-c11b-4f1e-a9ac-feafad1f64b9"
   },
   "outputs": [
    {
     "data": {
      "text/plain": [
       "(295475, 75)"
      ]
     },
     "execution_count": 26,
     "metadata": {},
     "output_type": "execute_result"
    }
   ],
   "source": [
    "whole_dataset_train.shape"
   ]
  },
  {
   "cell_type": "code",
   "execution_count": 27,
   "metadata": {
    "colab": {
     "base_uri": "https://localhost:8080/",
     "height": 495
    },
    "id": "k4ZTTiYn5z8D",
    "outputId": "0af52b0f-c271-4c41-c6f5-df74788445b0"
   },
   "outputs": [
    {
     "data": {
      "text/html": [
       "<div>\n",
       "<style scoped>\n",
       "    .dataframe tbody tr th:only-of-type {\n",
       "        vertical-align: middle;\n",
       "    }\n",
       "\n",
       "    .dataframe tbody tr th {\n",
       "        vertical-align: top;\n",
       "    }\n",
       "\n",
       "    .dataframe thead th {\n",
       "        text-align: right;\n",
       "    }\n",
       "</style>\n",
       "<table border=\"1\" class=\"dataframe\">\n",
       "  <thead>\n",
       "    <tr style=\"text-align: right;\">\n",
       "      <th></th>\n",
       "      <th>Protocol</th>\n",
       "      <th>Src Port</th>\n",
       "      <th>Dst Port</th>\n",
       "      <th>Flow Duration</th>\n",
       "      <th>Tot Fwd Pkts</th>\n",
       "      <th>Tot Bwd Pkts</th>\n",
       "      <th>TotLen Fwd Pkts</th>\n",
       "      <th>TotLen Bwd Pkts</th>\n",
       "      <th>Fwd Pkt Len Max</th>\n",
       "      <th>Fwd Pkt Len Min</th>\n",
       "      <th>...</th>\n",
       "      <th>Network Interface(Current Bandwidth)</th>\n",
       "      <th>PhysicalDisk(% Disk Time)</th>\n",
       "      <th>PhysicalDisk(Disk Reads/sec)</th>\n",
       "      <th>PhysicalDisk(Disk Writes/sec)</th>\n",
       "      <th>PhysicalDisk(Current Disk Queue Length)</th>\n",
       "      <th>Processor(% Processor Time)</th>\n",
       "      <th>Processor Information(% Processor Performance)</th>\n",
       "      <th>Processor Information(% Processor Utility)</th>\n",
       "      <th>Processor Information(% Processor Time)</th>\n",
       "      <th>Label</th>\n",
       "    </tr>\n",
       "  </thead>\n",
       "  <tbody>\n",
       "    <tr>\n",
       "      <th>0</th>\n",
       "      <td>0</td>\n",
       "      <td>0</td>\n",
       "      <td>0</td>\n",
       "      <td>0.487322</td>\n",
       "      <td>0.000663</td>\n",
       "      <td>0.000006</td>\n",
       "      <td>0.000000</td>\n",
       "      <td>0.000000e+00</td>\n",
       "      <td>0.000000</td>\n",
       "      <td>0.000000</td>\n",
       "      <td>...</td>\n",
       "      <td>0.281909</td>\n",
       "      <td>-0.052234</td>\n",
       "      <td>-0.130833</td>\n",
       "      <td>-0.099232</td>\n",
       "      <td>-0.054802</td>\n",
       "      <td>-0.803124</td>\n",
       "      <td>-1.308428</td>\n",
       "      <td>-1.079452</td>\n",
       "      <td>-0.803552</td>\n",
       "      <td>0</td>\n",
       "    </tr>\n",
       "    <tr>\n",
       "      <th>1</th>\n",
       "      <td>6</td>\n",
       "      <td>50456</td>\n",
       "      <td>443</td>\n",
       "      <td>0.887573</td>\n",
       "      <td>0.000221</td>\n",
       "      <td>0.000065</td>\n",
       "      <td>0.000037</td>\n",
       "      <td>5.919811e-06</td>\n",
       "      <td>0.357337</td>\n",
       "      <td>0.000000</td>\n",
       "      <td>...</td>\n",
       "      <td>0.281909</td>\n",
       "      <td>-0.052234</td>\n",
       "      <td>-0.130833</td>\n",
       "      <td>-0.099232</td>\n",
       "      <td>-0.054802</td>\n",
       "      <td>-0.803124</td>\n",
       "      <td>-1.308428</td>\n",
       "      <td>-1.079452</td>\n",
       "      <td>-0.803552</td>\n",
       "      <td>0</td>\n",
       "    </tr>\n",
       "    <tr>\n",
       "      <th>2</th>\n",
       "      <td>17</td>\n",
       "      <td>68</td>\n",
       "      <td>67</td>\n",
       "      <td>0.987279</td>\n",
       "      <td>0.004228</td>\n",
       "      <td>0.000000</td>\n",
       "      <td>0.001636</td>\n",
       "      <td>1.433962e-06</td>\n",
       "      <td>0.222826</td>\n",
       "      <td>0.202446</td>\n",
       "      <td>...</td>\n",
       "      <td>0.281909</td>\n",
       "      <td>-0.052234</td>\n",
       "      <td>-0.130833</td>\n",
       "      <td>-0.099232</td>\n",
       "      <td>-0.054802</td>\n",
       "      <td>-0.803124</td>\n",
       "      <td>-1.308428</td>\n",
       "      <td>-1.079452</td>\n",
       "      <td>-0.803552</td>\n",
       "      <td>0</td>\n",
       "    </tr>\n",
       "    <tr>\n",
       "      <th>3</th>\n",
       "      <td>17</td>\n",
       "      <td>137</td>\n",
       "      <td>137</td>\n",
       "      <td>0.619313</td>\n",
       "      <td>0.000497</td>\n",
       "      <td>0.000000</td>\n",
       "      <td>0.000031</td>\n",
       "      <td>2.358491e-07</td>\n",
       "      <td>0.033967</td>\n",
       "      <td>0.033967</td>\n",
       "      <td>...</td>\n",
       "      <td>0.281909</td>\n",
       "      <td>-0.052234</td>\n",
       "      <td>-0.130833</td>\n",
       "      <td>-0.099232</td>\n",
       "      <td>-0.054802</td>\n",
       "      <td>-0.803124</td>\n",
       "      <td>-1.308428</td>\n",
       "      <td>-1.079452</td>\n",
       "      <td>-0.803552</td>\n",
       "      <td>0</td>\n",
       "    </tr>\n",
       "    <tr>\n",
       "      <th>4</th>\n",
       "      <td>17</td>\n",
       "      <td>5353</td>\n",
       "      <td>5353</td>\n",
       "      <td>0.843813</td>\n",
       "      <td>0.121366</td>\n",
       "      <td>0.000106</td>\n",
       "      <td>0.000494</td>\n",
       "      <td>8.540218e-07</td>\n",
       "      <td>0.357337</td>\n",
       "      <td>0.025815</td>\n",
       "      <td>...</td>\n",
       "      <td>0.281909</td>\n",
       "      <td>-0.052234</td>\n",
       "      <td>-0.130833</td>\n",
       "      <td>-0.099232</td>\n",
       "      <td>-0.054802</td>\n",
       "      <td>-0.803124</td>\n",
       "      <td>-1.308428</td>\n",
       "      <td>-1.079452</td>\n",
       "      <td>-0.803552</td>\n",
       "      <td>0</td>\n",
       "    </tr>\n",
       "    <tr>\n",
       "      <th>...</th>\n",
       "      <td>...</td>\n",
       "      <td>...</td>\n",
       "      <td>...</td>\n",
       "      <td>...</td>\n",
       "      <td>...</td>\n",
       "      <td>...</td>\n",
       "      <td>...</td>\n",
       "      <td>...</td>\n",
       "      <td>...</td>\n",
       "      <td>...</td>\n",
       "      <td>...</td>\n",
       "      <td>...</td>\n",
       "      <td>...</td>\n",
       "      <td>...</td>\n",
       "      <td>...</td>\n",
       "      <td>...</td>\n",
       "      <td>...</td>\n",
       "      <td>...</td>\n",
       "      <td>...</td>\n",
       "      <td>...</td>\n",
       "      <td>...</td>\n",
       "    </tr>\n",
       "    <tr>\n",
       "      <th>295470</th>\n",
       "      <td>17</td>\n",
       "      <td>5353</td>\n",
       "      <td>5353</td>\n",
       "      <td>0.007284</td>\n",
       "      <td>0.000138</td>\n",
       "      <td>0.000000</td>\n",
       "      <td>0.000022</td>\n",
       "      <td>1.080189e-06</td>\n",
       "      <td>0.193614</td>\n",
       "      <td>0.028533</td>\n",
       "      <td>...</td>\n",
       "      <td>1.024300</td>\n",
       "      <td>-0.047074</td>\n",
       "      <td>-0.144835</td>\n",
       "      <td>0.743318</td>\n",
       "      <td>-0.054802</td>\n",
       "      <td>-0.136854</td>\n",
       "      <td>0.423706</td>\n",
       "      <td>1.027265</td>\n",
       "      <td>-0.136796</td>\n",
       "      <td>2</td>\n",
       "    </tr>\n",
       "    <tr>\n",
       "      <th>295471</th>\n",
       "      <td>17</td>\n",
       "      <td>59477</td>\n",
       "      <td>1900</td>\n",
       "      <td>0.034928</td>\n",
       "      <td>0.000055</td>\n",
       "      <td>0.000000</td>\n",
       "      <td>0.000009</td>\n",
       "      <td>5.896226e-07</td>\n",
       "      <td>0.084918</td>\n",
       "      <td>0.084918</td>\n",
       "      <td>...</td>\n",
       "      <td>1.024300</td>\n",
       "      <td>-0.047074</td>\n",
       "      <td>-0.144835</td>\n",
       "      <td>0.743318</td>\n",
       "      <td>-0.054802</td>\n",
       "      <td>-0.136854</td>\n",
       "      <td>0.423706</td>\n",
       "      <td>1.027265</td>\n",
       "      <td>-0.136796</td>\n",
       "      <td>2</td>\n",
       "    </tr>\n",
       "    <tr>\n",
       "      <th>295472</th>\n",
       "      <td>6</td>\n",
       "      <td>49755</td>\n",
       "      <td>443</td>\n",
       "      <td>0.000671</td>\n",
       "      <td>0.000000</td>\n",
       "      <td>0.000006</td>\n",
       "      <td>0.000000</td>\n",
       "      <td>4.716981e-09</td>\n",
       "      <td>0.000000</td>\n",
       "      <td>0.000000</td>\n",
       "      <td>...</td>\n",
       "      <td>1.024300</td>\n",
       "      <td>-0.054611</td>\n",
       "      <td>-0.141330</td>\n",
       "      <td>-0.198383</td>\n",
       "      <td>-0.054802</td>\n",
       "      <td>0.142053</td>\n",
       "      <td>0.391217</td>\n",
       "      <td>1.135621</td>\n",
       "      <td>0.142316</td>\n",
       "      <td>2</td>\n",
       "    </tr>\n",
       "    <tr>\n",
       "      <th>295473</th>\n",
       "      <td>17</td>\n",
       "      <td>49946</td>\n",
       "      <td>1900</td>\n",
       "      <td>0.000000</td>\n",
       "      <td>0.000055</td>\n",
       "      <td>0.000000</td>\n",
       "      <td>0.000009</td>\n",
       "      <td>5.896226e-07</td>\n",
       "      <td>0.084918</td>\n",
       "      <td>0.084918</td>\n",
       "      <td>...</td>\n",
       "      <td>0.574366</td>\n",
       "      <td>-0.052676</td>\n",
       "      <td>-0.137725</td>\n",
       "      <td>-0.188656</td>\n",
       "      <td>1.094182</td>\n",
       "      <td>0.516714</td>\n",
       "      <td>0.370251</td>\n",
       "      <td>1.293062</td>\n",
       "      <td>0.517250</td>\n",
       "      <td>2</td>\n",
       "    </tr>\n",
       "    <tr>\n",
       "      <th>295474</th>\n",
       "      <td>17</td>\n",
       "      <td>5353</td>\n",
       "      <td>5353</td>\n",
       "      <td>0.004215</td>\n",
       "      <td>0.000083</td>\n",
       "      <td>0.000000</td>\n",
       "      <td>0.000005</td>\n",
       "      <td>1.113208e-06</td>\n",
       "      <td>0.034647</td>\n",
       "      <td>0.034647</td>\n",
       "      <td>...</td>\n",
       "      <td>0.574366</td>\n",
       "      <td>-0.055280</td>\n",
       "      <td>-0.130798</td>\n",
       "      <td>-0.193638</td>\n",
       "      <td>-0.054802</td>\n",
       "      <td>0.338367</td>\n",
       "      <td>0.410503</td>\n",
       "      <td>1.184218</td>\n",
       "      <td>0.338772</td>\n",
       "      <td>2</td>\n",
       "    </tr>\n",
       "  </tbody>\n",
       "</table>\n",
       "<p>295475 rows × 76 columns</p>\n",
       "</div>"
      ],
      "text/plain": [
       "        Protocol  Src Port  Dst Port  Flow Duration  Tot Fwd Pkts  \\\n",
       "0              0         0         0       0.487322      0.000663   \n",
       "1              6     50456       443       0.887573      0.000221   \n",
       "2             17        68        67       0.987279      0.004228   \n",
       "3             17       137       137       0.619313      0.000497   \n",
       "4             17      5353      5353       0.843813      0.121366   \n",
       "...          ...       ...       ...            ...           ...   \n",
       "295470        17      5353      5353       0.007284      0.000138   \n",
       "295471        17     59477      1900       0.034928      0.000055   \n",
       "295472         6     49755       443       0.000671      0.000000   \n",
       "295473        17     49946      1900       0.000000      0.000055   \n",
       "295474        17      5353      5353       0.004215      0.000083   \n",
       "\n",
       "        Tot Bwd Pkts  TotLen Fwd Pkts  TotLen Bwd Pkts  Fwd Pkt Len Max  \\\n",
       "0           0.000006         0.000000     0.000000e+00         0.000000   \n",
       "1           0.000065         0.000037     5.919811e-06         0.357337   \n",
       "2           0.000000         0.001636     1.433962e-06         0.222826   \n",
       "3           0.000000         0.000031     2.358491e-07         0.033967   \n",
       "4           0.000106         0.000494     8.540218e-07         0.357337   \n",
       "...              ...              ...              ...              ...   \n",
       "295470      0.000000         0.000022     1.080189e-06         0.193614   \n",
       "295471      0.000000         0.000009     5.896226e-07         0.084918   \n",
       "295472      0.000006         0.000000     4.716981e-09         0.000000   \n",
       "295473      0.000000         0.000009     5.896226e-07         0.084918   \n",
       "295474      0.000000         0.000005     1.113208e-06         0.034647   \n",
       "\n",
       "        Fwd Pkt Len Min  ...  Network Interface(Current Bandwidth)  \\\n",
       "0              0.000000  ...                              0.281909   \n",
       "1              0.000000  ...                              0.281909   \n",
       "2              0.202446  ...                              0.281909   \n",
       "3              0.033967  ...                              0.281909   \n",
       "4              0.025815  ...                              0.281909   \n",
       "...                 ...  ...                                   ...   \n",
       "295470         0.028533  ...                              1.024300   \n",
       "295471         0.084918  ...                              1.024300   \n",
       "295472         0.000000  ...                              1.024300   \n",
       "295473         0.084918  ...                              0.574366   \n",
       "295474         0.034647  ...                              0.574366   \n",
       "\n",
       "        PhysicalDisk(% Disk Time)  PhysicalDisk(Disk Reads/sec)  \\\n",
       "0                       -0.052234                     -0.130833   \n",
       "1                       -0.052234                     -0.130833   \n",
       "2                       -0.052234                     -0.130833   \n",
       "3                       -0.052234                     -0.130833   \n",
       "4                       -0.052234                     -0.130833   \n",
       "...                           ...                           ...   \n",
       "295470                  -0.047074                     -0.144835   \n",
       "295471                  -0.047074                     -0.144835   \n",
       "295472                  -0.054611                     -0.141330   \n",
       "295473                  -0.052676                     -0.137725   \n",
       "295474                  -0.055280                     -0.130798   \n",
       "\n",
       "        PhysicalDisk(Disk Writes/sec)  \\\n",
       "0                           -0.099232   \n",
       "1                           -0.099232   \n",
       "2                           -0.099232   \n",
       "3                           -0.099232   \n",
       "4                           -0.099232   \n",
       "...                               ...   \n",
       "295470                       0.743318   \n",
       "295471                       0.743318   \n",
       "295472                      -0.198383   \n",
       "295473                      -0.188656   \n",
       "295474                      -0.193638   \n",
       "\n",
       "        PhysicalDisk(Current Disk Queue Length)  Processor(% Processor Time)  \\\n",
       "0                                     -0.054802                    -0.803124   \n",
       "1                                     -0.054802                    -0.803124   \n",
       "2                                     -0.054802                    -0.803124   \n",
       "3                                     -0.054802                    -0.803124   \n",
       "4                                     -0.054802                    -0.803124   \n",
       "...                                         ...                          ...   \n",
       "295470                                -0.054802                    -0.136854   \n",
       "295471                                -0.054802                    -0.136854   \n",
       "295472                                -0.054802                     0.142053   \n",
       "295473                                 1.094182                     0.516714   \n",
       "295474                                -0.054802                     0.338367   \n",
       "\n",
       "        Processor Information(% Processor Performance)  \\\n",
       "0                                            -1.308428   \n",
       "1                                            -1.308428   \n",
       "2                                            -1.308428   \n",
       "3                                            -1.308428   \n",
       "4                                            -1.308428   \n",
       "...                                                ...   \n",
       "295470                                        0.423706   \n",
       "295471                                        0.423706   \n",
       "295472                                        0.391217   \n",
       "295473                                        0.370251   \n",
       "295474                                        0.410503   \n",
       "\n",
       "        Processor Information(% Processor Utility)  \\\n",
       "0                                        -1.079452   \n",
       "1                                        -1.079452   \n",
       "2                                        -1.079452   \n",
       "3                                        -1.079452   \n",
       "4                                        -1.079452   \n",
       "...                                            ...   \n",
       "295470                                    1.027265   \n",
       "295471                                    1.027265   \n",
       "295472                                    1.135621   \n",
       "295473                                    1.293062   \n",
       "295474                                    1.184218   \n",
       "\n",
       "        Processor Information(% Processor Time)  Label  \n",
       "0                                     -0.803552      0  \n",
       "1                                     -0.803552      0  \n",
       "2                                     -0.803552      0  \n",
       "3                                     -0.803552      0  \n",
       "4                                     -0.803552      0  \n",
       "...                                         ...    ...  \n",
       "295470                                -0.136796      2  \n",
       "295471                                -0.136796      2  \n",
       "295472                                 0.142316      2  \n",
       "295473                                 0.517250      2  \n",
       "295474                                 0.338772      2  \n",
       "\n",
       "[295475 rows x 76 columns]"
      ]
     },
     "execution_count": 27,
     "metadata": {},
     "output_type": "execute_result"
    }
   ],
   "source": [
    "whole_dataset_temp = pd.concat([whole_dataset_train,whole_dataset_label],axis=1)\n",
    "whole_dataset_temp"
   ]
  },
  {
   "cell_type": "code",
   "execution_count": 30,
   "metadata": {
    "id": "tpL_rDutqLXg"
   },
   "outputs": [],
   "source": [
    "whole_dataset_temp.to_csv(\"All DATASET files/Normalized Dataset for ANN.csv\", index=False)"
   ]
  },
  {
   "cell_type": "markdown",
   "metadata": {
    "id": "svJ7R4GBz6tR"
   },
   "source": [
    "## TASK - 3 : Training ML Models"
   ]
  },
  {
   "cell_type": "code",
   "execution_count": 28,
   "metadata": {
    "id": "eoKBr9kn6LOD"
   },
   "outputs": [],
   "source": [
    "from sklearn.tree import DecisionTreeClassifier\n",
    "from sklearn.ensemble import RandomForestClassifier\n",
    "from xgboost import XGBClassifier\n",
    "from sklearn.neighbors import KNeighborsClassifier\n",
    "from sklearn.naive_bayes import GaussianNB\n",
    "\n",
    "from sklearn.metrics import classification_report, confusion_matrix, accuracy_score\n",
    "from sklearn.model_selection import StratifiedKFold,train_test_split\n",
    "\n",
    "import joblib"
   ]
  },
  {
   "cell_type": "code",
   "execution_count": 29,
   "metadata": {
    "id": "auTs9UzQBYas"
   },
   "outputs": [],
   "source": [
    "skf = StratifiedKFold(n_splits=5)"
   ]
  },
  {
   "cell_type": "code",
   "execution_count": 54,
   "metadata": {},
   "outputs": [
    {
     "name": "stdout",
     "output_type": "stream",
     "text": [
      "Collecting xgboost\n",
      "  Using cached xgboost-2.1.4-py3-none-manylinux_2_28_x86_64.whl.metadata (2.1 kB)\n",
      "Requirement already satisfied: numpy in /opt/conda/lib/python3.11/site-packages (from xgboost) (1.24.4)\n",
      "Collecting nvidia-nccl-cu12 (from xgboost)\n",
      "  Using cached nvidia_nccl_cu12-2.25.1-py3-none-manylinux2014_x86_64.manylinux_2_17_x86_64.whl.metadata (1.8 kB)\n",
      "Requirement already satisfied: scipy in /opt/conda/lib/python3.11/site-packages (from xgboost) (1.11.3)\n",
      "Downloading xgboost-2.1.4-py3-none-manylinux_2_28_x86_64.whl (223.6 MB)\n",
      "\u001b[2K   \u001b[90m━━━━━━━━━━━━━━━━━━━━━━━━━━━━━━━━━━━━━━━\u001b[0m \u001b[32m223.6/223.6 MB\u001b[0m \u001b[31m788.8 kB/s\u001b[0m eta \u001b[36m0:00:00\u001b[0m00:01\u001b[0m00:08\u001b[0m\n",
      "\u001b[?25hDownloading nvidia_nccl_cu12-2.25.1-py3-none-manylinux2014_x86_64.manylinux_2_17_x86_64.whl (201.4 MB)\n",
      "\u001b[2K   \u001b[90m━━━━━━━━━━━━━━━━━━━━━━━━━━━━━━━━━━━━━━━━\u001b[0m \u001b[32m201.4/201.4 MB\u001b[0m \u001b[31m1.6 MB/s\u001b[0m eta \u001b[36m0:00:00\u001b[0m00:01\u001b[0mm00:07\u001b[0m\n",
      "\u001b[?25hInstalling collected packages: nvidia-nccl-cu12, xgboost\n",
      "Successfully installed nvidia-nccl-cu12-2.25.1 xgboost-2.1.4\n"
     ]
    }
   ],
   "source": [
    "!pip install xgboost"
   ]
  },
  {
   "cell_type": "markdown",
   "metadata": {
    "id": "gm9hzI-q1GnZ",
    "jp-MarkdownHeadingCollapsed": true
   },
   "source": [
    "#### 1) Decision Tree"
   ]
  },
  {
   "cell_type": "code",
   "execution_count": 35,
   "metadata": {
    "colab": {
     "base_uri": "https://localhost:8080/"
    },
    "id": "8hhNVbpxndDd",
    "outputId": "bf91fb62-318c-4ab0-f70a-15578f4a089b"
   },
   "outputs": [
    {
     "name": "stdout",
     "output_type": "stream",
     "text": [
      "Max Depth : None\n",
      "\n",
      "Cross-validation fold Max accuracy : 0.931483205008884\n",
      "Average Cross-Validation Accuracy : 0.8405\n",
      "\n",
      "Max Depth : 5\n",
      "\n",
      "Cross-validation fold Max accuracy : 0.9519079448345884\n",
      "Average Cross-Validation Accuracy : 0.8507\n",
      "\n",
      "Max Depth : 10\n",
      "\n",
      "Cross-validation fold Max accuracy : 0.943633133090786\n",
      "Average Cross-Validation Accuracy : 0.8535\n",
      "\n",
      "Max Depth : 15\n",
      "\n",
      "Cross-validation fold Max accuracy : 0.9330400203062865\n",
      "Average Cross-Validation Accuracy : 0.8401\n",
      "\n",
      "Max Depth : 20\n",
      "\n",
      "Cross-validation fold Max accuracy : 0.9323800659954311\n",
      "Average Cross-Validation Accuracy : 0.8413\n",
      "\n",
      "Max Depth : 25\n",
      "\n",
      "Cross-validation fold Max accuracy : 0.9326169726711228\n",
      "Average Cross-Validation Accuracy : 0.8401\n",
      "\n",
      "Max Depth : 30\n",
      "\n",
      "Cross-validation fold Max accuracy : 0.9315847364413233\n",
      "Average Cross-Validation Accuracy : 0.8405\n",
      "\n",
      "Max Depth : 35\n",
      "\n",
      "Cross-validation fold Max accuracy : 0.931483205008884\n",
      "Average Cross-Validation Accuracy : 0.8405\n",
      "\n",
      "Max Depth : 40\n",
      "\n",
      "Cross-validation fold Max accuracy : 0.931483205008884\n",
      "Average Cross-Validation Accuracy : 0.8405\n",
      "\n",
      "Max Depth : 45\n",
      "\n",
      "Cross-validation fold Max accuracy : 0.931483205008884\n",
      "Average Cross-Validation Accuracy : 0.8405\n",
      "\n",
      "Max Depth : 50\n",
      "\n",
      "Cross-validation fold Max accuracy : 0.931483205008884\n",
      "Average Cross-Validation Accuracy : 0.8405\n",
      "\n",
      "Best accuracy acheieved :  0.9519079448345884\n",
      "\n",
      "\n",
      "\n",
      "CPU times: user 10min 48s, sys: 2 s, total: 10min 50s\n",
      "Wall time: 10min 50s\n"
     ]
    }
   ],
   "source": [
    "%%time\n",
    "\n",
    "hyper_parameter_max_depth = [None]+list(range(5,51,5))\n",
    "accuracy_list_DT_cv = []\n",
    "\n",
    "generalized_DT_model = None\n",
    "generalized_test_true_for_DT_model = None\n",
    "generalized_test_pred_for_DT_model = None\n",
    "best_accuracy = 0\n",
    "\n",
    "for depth in hyper_parameter_max_depth:\n",
    "  DT_fold_accuracies = []\n",
    "  for train_index, test_index in skf.split(whole_dataset_train, whole_dataset_label):\n",
    "      X_train_dt, X_test_dt = whole_dataset_train.iloc[train_index], whole_dataset_train.iloc[test_index]\n",
    "      y_train_dt, y_test_dt = whole_dataset_label.iloc[train_index], whole_dataset_label.iloc[test_index]\n",
    "\n",
    "      model = DecisionTreeClassifier(max_depth=depth, random_state=24)\n",
    "      model.fit(X_train_dt, y_train_dt)\n",
    "\n",
    "      y_pred = model.predict(X_test_dt)\n",
    "\n",
    "      accuracy = accuracy_score(y_test_dt, y_pred)\n",
    "      if accuracy>best_accuracy:\n",
    "        best_accuracy = accuracy\n",
    "        generalized_DT_model = model\n",
    "        generalized_test_true_for_DT_model = y_test_dt\n",
    "        generalized_test_pred_for_DT_model = y_pred\n",
    "\n",
    "      DT_fold_accuracies.append(accuracy)\n",
    "\n",
    "  average_accuracy = np.mean(DT_fold_accuracies)\n",
    "  print(f\"Max Depth : {depth}\")\n",
    "  print(\"\\nCross-validation fold Max accuracy :\", max(DT_fold_accuracies))\n",
    "  print(f\"Average Cross-Validation Accuracy : {average_accuracy:.4f}\")\n",
    "  print()\n",
    "  accuracy_list_DT_cv.append(average_accuracy)\n",
    "\n",
    "print(\"Best accuracy acheieved : \",best_accuracy)\n",
    "print(\"\\n\\n\")"
   ]
  },
  {
   "cell_type": "code",
   "execution_count": 36,
   "metadata": {
    "colab": {
     "base_uri": "https://localhost:8080/",
     "height": 410
    },
    "id": "Cv_RfL-H7uNX",
    "outputId": "d307decf-6b0c-4444-877a-755763aceeb6"
   },
   "outputs": [
    {
     "data": {
      "image/png": "[encoded data removed]",
      "text/plain": [
       "<Figure size 500x400 with 1 Axes>"
      ]
     },
     "metadata": {},
     "output_type": "display_data"
    }
   ],
   "source": [
    "plt.figure(figsize=(5,4))\n",
    "plt.plot(hyper_parameter_max_depth[1:], accuracy_list_DT_cv[1:], 'o-')\n",
    "plt.xticks(hyper_parameter_max_depth[1:])\n",
    "plt.xlabel(\"Max Depth\")\n",
    "plt.ylabel(\"Average Accuracy\")\n",
    "plt.title(\"Decision Tree Accuracy vs Max Depth\")\n",
    "plt.show()"
   ]
  },
  {
   "cell_type": "code",
   "execution_count": 37,
   "metadata": {
    "colab": {
     "base_uri": "https://localhost:8080/",
     "height": 410
    },
    "id": "PfK5pZAj8pKB",
    "outputId": "17c7d227-e87f-4231-dea0-a5dcd15cd1e9"
   },
   "outputs": [
    {
     "data": {
      "image/png": "[encoded data removed]",
      "text/plain": [
       "<Figure size 400x400 with 1 Axes>"
      ]
     },
     "metadata": {},
     "output_type": "display_data"
    }
   ],
   "source": [
    "cm = confusion_matrix(generalized_test_true_for_DT_model, generalized_test_pred_for_DT_model)\n",
    "plt.figure(figsize=(4, 4))\n",
    "sns.heatmap(cm, annot=True, fmt='d', cmap='Blues', cbar=False,\n",
    "            xticklabels=['Normal', 'DoS', 'DDoS'],\n",
    "            yticklabels=['Normal', 'DoS', 'DDoS'])\n",
    "\n",
    "plt.xlabel(\"Predicted Label\")\n",
    "plt.ylabel(\"True Label\")\n",
    "plt.title(\"Confusion Matrix\")\n",
    "plt.show()"
   ]
  },
  {
   "cell_type": "code",
   "execution_count": 38,
   "metadata": {
    "colab": {
     "base_uri": "https://localhost:8080/"
    },
    "id": "ovdJlnUA8owL",
    "outputId": "5ae102f0-7b2c-43b0-b30f-52058bec1646"
   },
   "outputs": [
    {
     "data": {
      "text/plain": [
       "['Trained ML models/generalized_DT_model.pkl']"
      ]
     },
     "execution_count": 38,
     "metadata": {},
     "output_type": "execute_result"
    }
   ],
   "source": [
    "joblib.dump(generalized_DT_model, \"Trained ML models/generalized_DT_model.pkl\")"
   ]
  },
  {
   "cell_type": "code",
   "execution_count": null,
   "metadata": {
    "id": "Jq4P4HIL18cu"
   },
   "outputs": [],
   "source": []
  },
  {
   "cell_type": "markdown",
   "metadata": {
    "id": "TNmg1lwk0B_p"
   },
   "source": [
    "#### 2) Random Forest"
   ]
  },
  {
   "cell_type": "code",
   "execution_count": 39,
   "metadata": {
    "id": "Ro-5zud_atQh"
   },
   "outputs": [],
   "source": [
    "hyper_parameter_n_estimators =  list(range(50,551,50))\n",
    "accuracy_list_RFC_cv = []\n",
    "\n",
    "generalized_RFC_model = None\n",
    "generalized_test_true_for_RFC_model = None\n",
    "generalized_test_pred_for_RFC_model = None\n",
    "best_accuracy = 0"
   ]
  },
  {
   "cell_type": "code",
   "execution_count": 40,
   "metadata": {
    "id": "1c0p8OoOjvMP"
   },
   "outputs": [
    {
     "name": "stdout",
     "output_type": "stream",
     "text": [
      "Number of Estimators : 50\n",
      "\n",
      "Cross-validation fold Max accuracy: 0.9311955326169726\n",
      "Average Cross-Validation Accuracy: 0.8560\n",
      "\n",
      "Number of Estimators : 100\n",
      "\n",
      "Cross-validation fold Max accuracy: 0.936509010914629\n",
      "Average Cross-Validation Accuracy: 0.8585\n",
      "\n",
      "Number of Estimators : 150\n",
      "\n",
      "Cross-validation fold Max accuracy: 0.9379135290633726\n",
      "Average Cross-Validation Accuracy: 0.8597\n",
      "\n",
      "Number of Estimators : 200\n",
      "\n",
      "Cross-validation fold Max accuracy: 0.9393688129283357\n",
      "Average Cross-Validation Accuracy: 0.8607\n",
      "\n",
      "Number of Estimators : 250\n",
      "\n",
      "Cross-validation fold Max accuracy: 0.9404348929689483\n",
      "Average Cross-Validation Accuracy: 0.8620\n",
      "\n",
      "Number of Estimators : 300\n",
      "\n",
      "Cross-validation fold Max accuracy: 0.9399272358067519\n",
      "Average Cross-Validation Accuracy: 0.8619\n",
      "\n",
      "Number of Estimators : 350\n",
      "\n",
      "Cross-validation fold Max accuracy: 0.9409425501311448\n",
      "Average Cross-Validation Accuracy: 0.8626\n",
      "\n",
      "Number of Estimators : 400\n",
      "\n",
      "Cross-validation fold Max accuracy: 0.9400964548608173\n",
      "Average Cross-Validation Accuracy: 0.8625\n",
      "\n",
      "Number of Estimators : 450\n",
      "\n",
      "Cross-validation fold Max accuracy: 0.9401810643878501\n",
      "Average Cross-Validation Accuracy: 0.8622\n",
      "\n",
      "Number of Estimators : 500\n",
      "\n",
      "Cross-validation fold Max accuracy: 0.9399780015229715\n",
      "Average Cross-Validation Accuracy: 0.8625\n",
      "\n",
      "Number of Estimators : 550\n",
      "\n",
      "Cross-validation fold Max accuracy: 0.9400795329554108\n",
      "Average Cross-Validation Accuracy: 0.8630\n",
      "\n",
      "\n",
      "\n",
      "\n",
      "CPU times: user 5h 57min 26s, sys: 15.1 s, total: 5h 57min 42s\n",
      "Wall time: 5h 57min 44s\n"
     ]
    }
   ],
   "source": [
    "%%time\n",
    "\n",
    "for n_e in hyper_parameter_n_estimators:\n",
    "  RFC_fold_accuracies = []\n",
    "  for train_index, test_index in skf.split(whole_dataset_train, whole_dataset_label):\n",
    "      X_train_rfc, X_test_rfc = whole_dataset_train.iloc[train_index], whole_dataset_train.iloc[test_index]\n",
    "      y_train_rfc, y_test_rfc = whole_dataset_label.iloc[train_index], whole_dataset_label.iloc[test_index]\n",
    "\n",
    "      model = RandomForestClassifier(n_estimators=n_e, random_state=42)\n",
    "      model.fit(X_train_rfc, y_train_rfc)\n",
    "\n",
    "      y_pred = model.predict(X_test_rfc)\n",
    "\n",
    "      accuracy = accuracy_score(y_test_rfc, y_pred)\n",
    "      if accuracy>best_accuracy:\n",
    "        best_accuracy = accuracy\n",
    "        generalized_RFC_model = model\n",
    "        generalized_test_true_for_RFC_model = y_test_rfc\n",
    "        generalized_test_pred_for_RFC_model = y_pred\n",
    "\n",
    "      RFC_fold_accuracies.append(accuracy)\n",
    "\n",
    "  average_accuracy = np.mean(RFC_fold_accuracies)\n",
    "  print(f\"Number of Estimators : {n_e}\")\n",
    "  print(\"\\nCross-validation fold Max accuracy:\", max(RFC_fold_accuracies))\n",
    "  print(f\"Average Cross-Validation Accuracy: {average_accuracy:.4f}\")\n",
    "  print()\n",
    "  accuracy_list_RFC_cv.append(average_accuracy)\n",
    "\n",
    "print(\"\\n\\n\")"
   ]
  },
  {
   "cell_type": "code",
   "execution_count": 41,
   "metadata": {
    "colab": {
     "base_uri": "https://localhost:8080/",
     "height": 713
    },
    "id": "ekG1XhPfkUYT",
    "outputId": "4ce4f9b0-7549-4c73-b7e4-46d0496ed71a"
   },
   "outputs": [
    {
     "data": {
      "image/png": "[encoded data removed]",
      "text/plain": [
       "<Figure size 500x400 with 1 Axes>"
      ]
     },
     "metadata": {},
     "output_type": "display_data"
    }
   ],
   "source": [
    "plt.figure(figsize=(5,4))\n",
    "plt.plot(hyper_parameter_n_estimators, accuracy_list_RFC_cv, 'o-')\n",
    "plt.xticks(hyper_parameter_n_estimators)\n",
    "plt.xlabel(\"Number of Estimators\")\n",
    "plt.ylabel(\"Accuracy\")\n",
    "plt.title(\"Random Forest Accuracy vs Number of Estimators\")\n",
    "plt.show()"
   ]
  },
  {
   "cell_type": "code",
   "execution_count": 42,
   "metadata": {
    "id": "SDs2HaQYQ758"
   },
   "outputs": [
    {
     "data": {
      "image/png": "[encoded data removed]",
      "text/plain": [
       "<Figure size 400x400 with 1 Axes>"
      ]
     },
     "metadata": {},
     "output_type": "display_data"
    }
   ],
   "source": [
    "cm = confusion_matrix(generalized_test_true_for_RFC_model, generalized_test_pred_for_RFC_model)\n",
    "plt.figure(figsize=(4, 4))\n",
    "sns.heatmap(cm, annot=True, fmt='d', cmap='Blues', cbar=False,\n",
    "            xticklabels=['Normal', 'DoS', 'DDoS'],\n",
    "            yticklabels=['Normal', 'DoS', 'DDoS'])\n",
    "\n",
    "plt.xlabel(\"Predicted Label\")\n",
    "plt.ylabel(\"True Label\")\n",
    "plt.title(\"Confusion Matrix\")\n",
    "plt.show()"
   ]
  },
  {
   "cell_type": "code",
   "execution_count": 43,
   "metadata": {
    "id": "ZuFTdom0RVk0"
   },
   "outputs": [
    {
     "data": {
      "text/plain": [
       "['Trained ML models/generalized_RFC_model.pkl']"
      ]
     },
     "execution_count": 43,
     "metadata": {},
     "output_type": "execute_result"
    }
   ],
   "source": [
    "joblib.dump(generalized_RFC_model, \"Trained ML models/generalized_RFC_model.pkl\")"
   ]
  },
  {
   "cell_type": "code",
   "execution_count": null,
   "metadata": {
    "id": "UZV4gtFh3v07"
   },
   "outputs": [],
   "source": []
  },
  {
   "cell_type": "markdown",
   "metadata": {
    "id": "RTlY_JbI0V0R",
    "jp-MarkdownHeadingCollapsed": true
   },
   "source": [
    "#### 3) XGBoost"
   ]
  },
  {
   "cell_type": "code",
   "execution_count": 49,
   "metadata": {
    "id": "gcbm0eeDNIYI"
   },
   "outputs": [],
   "source": [
    "hyper_parameter_n_estimators_xg = list(range(50,551,50))\n",
    "accuracy_list_XG_cv = []\n",
    "\n",
    "generalized_XG_model = None\n",
    "generalized_test_true_for_XG_model = None\n",
    "generalized_test_pred_for_XG_model = None\n",
    "best_accuracy = 0"
   ]
  },
  {
   "cell_type": "code",
   "execution_count": 50,
   "metadata": {
    "id": "-7m8737SPC6C"
   },
   "outputs": [
    {
     "name": "stdout",
     "output_type": "stream",
     "text": [
      "Number of Estimators : 50\n",
      "\n",
      "Cross-validation fold Max accuracy: 0.934782976563161\n",
      "Average Cross-Validation Accuracy: 0.8587\n",
      "\n",
      "Number of Estimators : 100\n",
      "\n",
      "Cross-validation fold Max accuracy: 0.9353583213469837\n",
      "Average Cross-Validation Accuracy: 0.8580\n",
      "\n",
      "Number of Estimators : 150\n",
      "\n",
      "Cross-validation fold Max accuracy: 0.9385227176580083\n",
      "Average Cross-Validation Accuracy: 0.8651\n",
      "\n",
      "Number of Estimators : 200\n",
      "\n",
      "Cross-validation fold Max accuracy: 0.9363059480497504\n",
      "Average Cross-Validation Accuracy: 0.8678\n",
      "\n",
      "Number of Estimators : 250\n",
      "\n",
      "Cross-validation fold Max accuracy: 0.9354767746848295\n",
      "Average Cross-Validation Accuracy: 0.8645\n",
      "\n",
      "Number of Estimators : 300\n",
      "\n",
      "Cross-validation fold Max accuracy: 0.9336661308063288\n",
      "Average Cross-Validation Accuracy: 0.8627\n",
      "\n",
      "Number of Estimators : 350\n",
      "\n",
      "Cross-validation fold Max accuracy: 0.9339368812928336\n",
      "Average Cross-Validation Accuracy: 0.8595\n",
      "\n",
      "Number of Estimators : 400\n",
      "\n",
      "Cross-validation fold Max accuracy: 0.9317201116845757\n",
      "Average Cross-Validation Accuracy: 0.8588\n",
      "\n",
      "Number of Estimators : 450\n",
      "\n",
      "Cross-validation fold Max accuracy: 0.9312462983331923\n",
      "Average Cross-Validation Accuracy: 0.8589\n",
      "\n",
      "Number of Estimators : 500\n",
      "\n",
      "Cross-validation fold Max accuracy: 0.9297064049411964\n",
      "Average Cross-Validation Accuracy: 0.8569\n",
      "\n",
      "Number of Estimators : 550\n",
      "\n",
      "Cross-validation fold Max accuracy: 0.929757170657416\n",
      "Average Cross-Validation Accuracy: 0.8575\n",
      "\n",
      "\n",
      "\n",
      "\n",
      "CPU times: user 39d 20h 59min 4s, sys: 49min 15s, total: 39d 21h 48min 20s\n",
      "Wall time: 4h 15min 8s\n"
     ]
    }
   ],
   "source": [
    "%%time\n",
    "\n",
    "for n_e in hyper_parameter_n_estimators_xg:\n",
    "  XG_fold_accuracies = []\n",
    "  for train_index, test_index in skf.split(whole_dataset_train, whole_dataset_label):\n",
    "      X_train_xg, X_test_xg = whole_dataset_train.iloc[train_index], whole_dataset_train.iloc[test_index]\n",
    "      y_train_xg, y_test_xg = whole_dataset_label.iloc[train_index], whole_dataset_label.iloc[test_index]\n",
    "\n",
    "      model = XGBClassifier( n_estimators=n_e,\n",
    "                             objective='multi:softmax',\n",
    "                             num_class=3,\n",
    "                             learning_rate=0.01,\n",
    "                             random_state=42)\n",
    "      model.fit(X_train_xg, y_train_xg)\n",
    "\n",
    "      y_pred = model.predict(X_test_xg)\n",
    "\n",
    "      accuracy = accuracy_score(y_test_xg, y_pred)\n",
    "      if accuracy>best_accuracy:\n",
    "        best_accuracy = accuracy\n",
    "        generalized_XG_model = model\n",
    "        generalized_test_true_for_XG_model = y_test_xg\n",
    "        generalized_test_pred_for_XG_model = y_pred\n",
    "\n",
    "      XG_fold_accuracies.append(accuracy)\n",
    "\n",
    "  average_accuracy = np.mean(XG_fold_accuracies)\n",
    "  print(f\"Number of Estimators : {n_e}\")\n",
    "  print(\"\\nCross-validation fold Max accuracy:\", max(XG_fold_accuracies))\n",
    "  print(f\"Average Cross-Validation Accuracy: {average_accuracy:.4f}\")\n",
    "  print()\n",
    "  accuracy_list_XG_cv.append(average_accuracy)\n",
    "\n",
    "print(\"\\n\\n\")"
   ]
  },
  {
   "cell_type": "code",
   "execution_count": 51,
   "metadata": {
    "id": "CFKRwgs-PrfN"
   },
   "outputs": [
    {
     "data": {
      "image/png": "[encoded data removed]",
      "text/plain": [
       "<Figure size 500x400 with 1 Axes>"
      ]
     },
     "metadata": {},
     "output_type": "display_data"
    }
   ],
   "source": [
    "plt.figure(figsize=(5,4))\n",
    "plt.plot(hyper_parameter_n_estimators_xg, accuracy_list_XG_cv, 'o-')\n",
    "plt.xticks(hyper_parameter_n_estimators_xg)\n",
    "plt.xlabel(\"Number of Estimators\")\n",
    "plt.ylabel(\"Accuracy\")\n",
    "plt.title(\"XGBoost Accuracy vs Number of Estimators\")\n",
    "plt.show()"
   ]
  },
  {
   "cell_type": "code",
   "execution_count": 52,
   "metadata": {
    "id": "Ap7qh_VN1FVs"
   },
   "outputs": [
    {
     "data": {
      "image/png": "[encoded data removed]",
      "text/plain": [
       "<Figure size 400x400 with 1 Axes>"
      ]
     },
     "metadata": {},
     "output_type": "display_data"
    }
   ],
   "source": [
    "cm = confusion_matrix(generalized_test_true_for_XG_model, generalized_test_pred_for_XG_model)\n",
    "plt.figure(figsize=(4, 4))\n",
    "sns.heatmap(cm, annot=True, fmt='d', cmap='Blues', cbar=False,\n",
    "            xticklabels=['Normal', 'DoS', 'DDoS'],\n",
    "            yticklabels=['Normal', 'DoS', 'DDoS'])\n",
    "\n",
    "plt.xlabel(\"Predicted Label\")\n",
    "plt.ylabel(\"True Label\")\n",
    "plt.title(\"Confusion Matrix\")\n",
    "plt.show()"
   ]
  },
  {
   "cell_type": "code",
   "execution_count": 53,
   "metadata": {
    "id": "ChYyMNxM43-7"
   },
   "outputs": [
    {
     "name": "stdout",
     "output_type": "stream",
     "text": [
      "              precision    recall  f1-score   support\n",
      "\n",
      "      Normal       0.95      0.99      0.97     19309\n",
      "         DoS       0.98      0.84      0.90     19611\n",
      "        DDoS       0.90      0.99      0.94     20175\n",
      "\n",
      "    accuracy                           0.94     59095\n",
      "   macro avg       0.94      0.94      0.94     59095\n",
      "weighted avg       0.94      0.94      0.94     59095\n",
      "\n"
     ]
    }
   ],
   "source": [
    "print(classification_report(generalized_test_true_for_XG_model, generalized_test_pred_for_XG_model, target_names=['Normal', 'DoS', 'DDoS']))"
   ]
  },
  {
   "cell_type": "code",
   "execution_count": null,
   "metadata": {
    "id": "OU4vK1at7sjb"
   },
   "outputs": [
    {
     "data": {
      "text/plain": [
       "['Trained ML models/generalized_XG_model.pkl']"
      ]
     },
     "execution_count": 54,
     "metadata": {},
     "output_type": "execute_result"
    }
   ],
   "source": [
    "joblib.dump(generalized_XG_model, \"Trained ML models/generalized_XG_model.pkl\")"
   ]
  },
  {
   "cell_type": "code",
   "execution_count": null,
   "metadata": {
    "id": "GBACxTJN7sZn"
   },
   "outputs": [],
   "source": []
  },
  {
   "cell_type": "markdown",
   "metadata": {
    "id": "E0CKdsixiORf"
   },
   "source": [
    "#### 4) KNN"
   ]
  },
  {
   "cell_type": "code",
   "execution_count": 44,
   "metadata": {
    "id": "ll5iATdv18WB"
   },
   "outputs": [
    {
     "name": "stdout",
     "output_type": "stream",
     "text": [
      "K value : 3\n",
      "\n",
      "Cross-validation fold Max accuracy: 0.7454776207800998\n",
      "Average Cross-Validation Accuracy: 0.6755\n",
      "\n",
      "K value : 5\n",
      "\n",
      "Cross-validation fold Max accuracy: 0.7419240206447246\n",
      "Average Cross-Validation Accuracy: 0.6700\n",
      "\n",
      "K value : 7\n",
      "\n",
      "Cross-validation fold Max accuracy: 0.7352737118199509\n",
      "Average Cross-Validation Accuracy: 0.6644\n",
      "\n",
      "K value : 9\n",
      "\n",
      "Cross-validation fold Max accuracy: 0.73444453845503\n",
      "Average Cross-Validation Accuracy: 0.6603\n",
      "\n",
      "K value : 11\n",
      "\n",
      "Cross-validation fold Max accuracy: 0.7320416278873001\n",
      "Average Cross-Validation Accuracy: 0.6570\n",
      "\n",
      "\n",
      "\n",
      "\n",
      "CPU times: user 3h 56min 43s, sys: 9min 22s, total: 4h 6min 5s\n",
      "Wall time: 1min 59s\n"
     ]
    }
   ],
   "source": [
    "%%time\n",
    "\n",
    "hyper_parameter_k = list(range(3,12,2))\n",
    "accuracy_list_knn_cv = []\n",
    "\n",
    "generalized_knn_model = None\n",
    "generalized_test_true_for_knn_model = None\n",
    "generalized_test_pred_for_knn_model = None\n",
    "best_accuracy = 0\n",
    "\n",
    "for kk in hyper_parameter_k:\n",
    "  KNN_fold_accuracies = []\n",
    "  for train_index, test_index in skf.split(whole_dataset_train, whole_dataset_label):\n",
    "      X_train_knn, X_test_knn = whole_dataset_train.iloc[train_index], whole_dataset_train.iloc[test_index]\n",
    "      y_train_knn, y_test_knn = whole_dataset_label.iloc[train_index], whole_dataset_label.iloc[test_index]\n",
    "\n",
    "      model = KNeighborsClassifier(n_neighbors=kk, weights = \"distance\")\n",
    "      model.fit(X_train_knn, y_train_knn)\n",
    "\n",
    "      y_pred = model.predict(X_test_knn)\n",
    "\n",
    "      accuracy = accuracy_score(y_test_knn, y_pred)\n",
    "      if accuracy>best_accuracy:\n",
    "        best_accuracy = accuracy\n",
    "        generalized_knn_model = model\n",
    "        generalized_test_true_for_knn_model = y_test_knn\n",
    "        generalized_test_pred_for_knn_model = y_pred\n",
    "\n",
    "      KNN_fold_accuracies.append(accuracy)\n",
    "\n",
    "  average_accuracy = np.mean(KNN_fold_accuracies)\n",
    "  print(f\"K value : {kk}\")\n",
    "  print(\"\\nCross-validation fold Max accuracy:\", max(KNN_fold_accuracies))\n",
    "  print(f\"Average Cross-Validation Accuracy: {average_accuracy:.4f}\")\n",
    "  print()\n",
    "  accuracy_list_knn_cv.append(average_accuracy)\n",
    "\n",
    "print(\"\\n\\n\")"
   ]
  },
  {
   "cell_type": "code",
   "execution_count": 45,
   "metadata": {
    "id": "sajq5bjEH08X"
   },
   "outputs": [
    {
     "data": {
      "image/png": "[encoded data removed]",
      "text/plain": [
       "<Figure size 500x400 with 1 Axes>"
      ]
     },
     "metadata": {},
     "output_type": "display_data"
    }
   ],
   "source": [
    "plt.figure(figsize=(5,4))\n",
    "plt.plot(hyper_parameter_k, accuracy_list_knn_cv, 'o-')\n",
    "plt.xticks(hyper_parameter_k)\n",
    "plt.xlabel(\"K value\")\n",
    "plt.ylabel(\"Accuracy\")\n",
    "plt.title(\"KNN Accuracy vs K value\")\n",
    "plt.show()"
   ]
  },
  {
   "cell_type": "code",
   "execution_count": 46,
   "metadata": {
    "id": "lNAUsHht-O2k"
   },
   "outputs": [
    {
     "data": {
      "image/png": "[encoded data removed]",
      "text/plain": [
       "<Figure size 400x400 with 1 Axes>"
      ]
     },
     "metadata": {},
     "output_type": "display_data"
    }
   ],
   "source": [
    "cm = confusion_matrix(generalized_test_true_for_knn_model, generalized_test_pred_for_knn_model)\n",
    "plt.figure(figsize=(4, 4))\n",
    "sns.heatmap(cm, annot=True, fmt='d', cmap='Blues', cbar=False,\n",
    "            xticklabels=['Normal', 'DoS', 'DDoS'],\n",
    "            yticklabels=['Normal', 'DoS', 'DDoS'])\n",
    "\n",
    "plt.xlabel(\"Predicted Label\")\n",
    "plt.ylabel(\"True Label\")\n",
    "plt.title(\"Confusion Matrix\")\n",
    "plt.show()"
   ]
  },
  {
   "cell_type": "code",
   "execution_count": 49,
   "metadata": {
    "id": "vna2zYB1eCMS"
   },
   "outputs": [
    {
     "data": {
      "text/plain": [
       "['Trained ML models/generalized_KNN_model.pkl']"
      ]
     },
     "execution_count": 49,
     "metadata": {},
     "output_type": "execute_result"
    }
   ],
   "source": [
    "joblib.dump(generalized_knn_model, \"Trained ML models/generalized_KNN_model.pkl\")"
   ]
  },
  {
   "cell_type": "code",
   "execution_count": null,
   "metadata": {
    "id": "y3U010zW-aO9"
   },
   "outputs": [],
   "source": []
  },
  {
   "cell_type": "markdown",
   "metadata": {
    "id": "H3fP3XW-B5t-",
    "jp-MarkdownHeadingCollapsed": true
   },
   "source": [
    "#### 5) Naive Bayes"
   ]
  },
  {
   "cell_type": "code",
   "execution_count": 50,
   "metadata": {
    "id": "E-N4PJC8-aFj"
   },
   "outputs": [
    {
     "name": "stdout",
     "output_type": "stream",
     "text": [
      "Variance Smoothing : 1e-09\n",
      "\n",
      "Cross-validation fold Max accuracy: 0.9382350452660969\n",
      "Average Cross-Validation Accuracy: 0.7635\n",
      "\n",
      "Variance Smoothing : 1e-08\n",
      "\n",
      "Cross-validation fold Max accuracy: 0.79759708943227\n",
      "Average Cross-Validation Accuracy: 0.6319\n",
      "\n",
      "Variance Smoothing : 1e-07\n",
      "\n",
      "Cross-validation fold Max accuracy: 0.5555461544969964\n",
      "Average Cross-Validation Accuracy: 0.4238\n",
      "\n",
      "Variance Smoothing : 1e-06\n",
      "\n",
      "Cross-validation fold Max accuracy: 0.39211439208054827\n",
      "Average Cross-Validation Accuracy: 0.3543\n",
      "\n",
      "Variance Smoothing : 1e-05\n",
      "\n",
      "Cross-validation fold Max accuracy: 0.39211439208054827\n",
      "Average Cross-Validation Accuracy: 0.3535\n",
      "\n",
      "Variance Smoothing : 0.0001\n",
      "\n",
      "Cross-validation fold Max accuracy: 0.39211439208054827\n",
      "Average Cross-Validation Accuracy: 0.3535\n",
      "\n",
      "Variance Smoothing : 0.001\n",
      "\n",
      "Cross-validation fold Max accuracy: 0.39211439208054827\n",
      "Average Cross-Validation Accuracy: 0.3535\n",
      "\n",
      "Variance Smoothing : 0.01\n",
      "\n",
      "Cross-validation fold Max accuracy: 0.39211439208054827\n",
      "Average Cross-Validation Accuracy: 0.3535\n",
      "\n",
      "Variance Smoothing : 0.1\n",
      "\n",
      "Cross-validation fold Max accuracy: 0.39211439208054827\n",
      "Average Cross-Validation Accuracy: 0.3504\n",
      "\n",
      "Variance Smoothing : 1\n",
      "\n",
      "Cross-validation fold Max accuracy: 0.392875877823843\n",
      "Average Cross-Validation Accuracy: 0.3484\n",
      "\n",
      "\n",
      "\n",
      "\n",
      "CPU times: user 11.1 s, sys: 1.82 s, total: 12.9 s\n",
      "Wall time: 12.9 s\n"
     ]
    }
   ],
   "source": [
    "%%time\n",
    "\n",
    "hyper_parameter_var_smoothing = [1e-9, 1e-8, 1e-7, 1e-6, 1e-5, 1e-4,1e-3, 1e-2, 1e-1, 1]\n",
    "accuracy_list_nb_cv = []\n",
    "\n",
    "generalized_nb_model = None\n",
    "generalized_test_true_for_nb_model = None\n",
    "generalized_test_pred_for_nb_model = None\n",
    "best_accuracy = 0\n",
    "\n",
    "for var_smooth in hyper_parameter_var_smoothing:\n",
    "  NB_fold_accuracies = []\n",
    "  for train_index, test_index in skf.split(whole_dataset_train, whole_dataset_label):\n",
    "      X_train_nb, X_test_nb = whole_dataset_train.iloc[train_index], whole_dataset_train.iloc[test_index]\n",
    "      y_train_nb, y_test_nb = whole_dataset_label.iloc[train_index], whole_dataset_label.iloc[test_index]\n",
    "\n",
    "      model = GaussianNB(var_smoothing=var_smooth)\n",
    "      model.fit(X_train_nb, y_train_nb)\n",
    "      y_pred = model.predict(X_test_nb)\n",
    "\n",
    "      accuracy = accuracy_score(y_test_nb, y_pred)\n",
    "      if accuracy>best_accuracy:\n",
    "        best_accuracy = accuracy\n",
    "        generalized_nb_model = model\n",
    "        generalized_test_true_for_nb_model = y_test_nb\n",
    "        generalized_test_pred_for_nb_model = y_pred\n",
    "\n",
    "      NB_fold_accuracies.append(accuracy)\n",
    "\n",
    "  average_accuracy = np.mean(NB_fold_accuracies)\n",
    "  print(f\"Variance Smoothing : {var_smooth}\")\n",
    "  print(\"\\nCross-validation fold Max accuracy:\", max(NB_fold_accuracies))\n",
    "  print(f\"Average Cross-Validation Accuracy: {average_accuracy:.4f}\")\n",
    "  print()\n",
    "  accuracy_list_nb_cv.append(average_accuracy)\n",
    "\n",
    "print(\"\\n\\n\")"
   ]
  },
  {
   "cell_type": "code",
   "execution_count": 51,
   "metadata": {
    "id": "SRZKptP3B48w"
   },
   "outputs": [
    {
     "data": {
      "image/png": "[encoded data removed]",
      "text/plain": [
       "<Figure size 800x400 with 1 Axes>"
      ]
     },
     "metadata": {},
     "output_type": "display_data"
    }
   ],
   "source": [
    "plt.figure(figsize=(8,4))\n",
    "plt.plot(hyper_parameter_var_smoothing, accuracy_list_nb_cv, 'o-')\n",
    "plt.xticks(hyper_parameter_var_smoothing)\n",
    "plt.xscale('log')\n",
    "plt.xlabel(\"Variance Smoothing\")\n",
    "plt.ylabel(\"Accuracy\")\n",
    "plt.title(\"Naive Bayes Accuracy vs Variance Smoothing\")\n",
    "plt.show()"
   ]
  },
  {
   "cell_type": "code",
   "execution_count": 52,
   "metadata": {
    "id": "IOMoKYDMDzjO"
   },
   "outputs": [
    {
     "data": {
      "image/png": "[encoded data removed]",
      "text/plain": [
       "<Figure size 400x400 with 1 Axes>"
      ]
     },
     "metadata": {},
     "output_type": "display_data"
    }
   ],
   "source": [
    "cm = confusion_matrix(generalized_test_true_for_nb_model, generalized_test_pred_for_nb_model)\n",
    "plt.figure(figsize=(4, 4))\n",
    "sns.heatmap(cm, annot=True, fmt='d', cmap='Blues', cbar=False,\n",
    "            xticklabels=['Normal', 'DoS', 'DDoS'],\n",
    "            yticklabels=['Normal', 'DoS', 'DDoS'])\n",
    "\n",
    "plt.xlabel(\"Predicted Label\")\n",
    "plt.ylabel(\"True Label\")\n",
    "plt.title(\"Confusion Matrix\")\n",
    "plt.show()"
   ]
  },
  {
   "cell_type": "code",
   "execution_count": 53,
   "metadata": {
    "id": "ZOVqS-uxEGaD"
   },
   "outputs": [
    {
     "data": {
      "text/plain": [
       "['Trained ML models/generalized_NB_model.pkl']"
      ]
     },
     "execution_count": 53,
     "metadata": {},
     "output_type": "execute_result"
    }
   ],
   "source": [
    "joblib.dump(generalized_nb_model, \"Trained ML models/generalized_NB_model.pkl\")"
   ]
  },
  {
   "cell_type": "code",
   "execution_count": null,
   "metadata": {
    "id": "TWCd29eJEGSq"
   },
   "outputs": [],
   "source": []
  },
  {
   "cell_type": "code",
   "execution_count": null,
   "metadata": {
    "id": "ItuTBoVAEGNj"
   },
   "outputs": [],
   "source": []
  },
  {
   "cell_type": "markdown",
   "metadata": {
    "id": "8BwNSCml2e7E",
    "jp-MarkdownHeadingCollapsed": true
   },
   "source": [
    "### Feature Extraction Techniques"
   ]
  },
  {
   "cell_type": "code",
   "execution_count": 45,
   "metadata": {
    "id": "c14KEYNqSuDz"
   },
   "outputs": [],
   "source": [
    "from sklearn.pipeline import Pipeline\n",
    "from sklearn.discriminant_analysis import LinearDiscriminantAnalysis as LDA\n",
    "from sklearn.decomposition import PCA"
   ]
  },
  {
   "cell_type": "markdown",
   "metadata": {
    "id": "EYgsKK2Ie-Vu",
    "jp-MarkdownHeadingCollapsed": true
   },
   "source": [
    "#### Principal Component Analysis"
   ]
  },
  {
   "cell_type": "code",
   "execution_count": 46,
   "metadata": {},
   "outputs": [
    {
     "data": {
      "text/plain": [
       "(295475, 75)"
      ]
     },
     "execution_count": 46,
     "metadata": {},
     "output_type": "execute_result"
    }
   ],
   "source": [
    "whole_dataset_train.shape"
   ]
  },
  {
   "cell_type": "code",
   "execution_count": 57,
   "metadata": {
    "colab": {
     "base_uri": "https://localhost:8080/"
    },
    "id": "V0I89VEjF8hi",
    "outputId": "2fbb8fbe-ef2c-4ed9-db72-639413d48deb"
   },
   "outputs": [
    {
     "name": "stdout",
     "output_type": "stream",
     "text": [
      "Model Accuracy for 1 principal components: 0.4124\n",
      "Model Accuracy for 2 principal components: 0.4429\n",
      "Model Accuracy for 3 principal components: 0.7250\n",
      "Model Accuracy for 4 principal components: 0.8355\n",
      "Model Accuracy for 5 principal components: 0.8759\n",
      "Model Accuracy for 6 principal components: 0.9314\n",
      "Model Accuracy for 7 principal components: 0.9489\n",
      "Model Accuracy for 8 principal components: 0.9556\n",
      "Model Accuracy for 9 principal components: 0.9592\n",
      "Model Accuracy for 10 principal components: 0.9630\n",
      "Model Accuracy for 11 principal components: 0.9798\n",
      "Model Accuracy for 12 principal components: 0.9799\n",
      "Model Accuracy for 13 principal components: 0.9844\n"
     ]
    }
   ],
   "source": [
    "for i in range(1, 14):\n",
    "  X_train, X_test, y_train, y_test = train_test_split(whole_dataset_train, whole_dataset_label , test_size=0.2, random_state=42)\n",
    "\n",
    "  pca_optimal = PCA(n_components=i)\n",
    "  X_train_pca = pca_optimal.fit_transform(X_train)\n",
    "  X_test_pca = pca_optimal.transform(X_test)\n",
    "\n",
    "  # Example: Train a Random Forest Classifier\n",
    "  clf = RandomForestClassifier(n_estimators=500, random_state=42)\n",
    "  clf.fit(X_train_pca, y_train)\n",
    "\n",
    "  # Make predictions and calculate accuracy\n",
    "  y_pred = clf.predict(X_test_pca)\n",
    "  accuracy = accuracy_score(y_test, y_pred)\n",
    "  print(f\"Model Accuracy for {i} principal components: {accuracy:.4f}\")"
   ]
  },
  {
   "cell_type": "code",
   "execution_count": 58,
   "metadata": {
    "colab": {
     "base_uri": "https://localhost:8080/"
    },
    "id": "a_d9PCG0ulp9",
    "outputId": "f6ffa369-6bfa-4508-d0cc-8329dde05464"
   },
   "outputs": [
    {
     "name": "stdout",
     "output_type": "stream",
     "text": [
      "Explained variance ratio of each component: [7.86619564e-01 2.13380384e-01 3.98915824e-08 3.59251681e-09\n",
      " 1.70778985e-09 1.31085291e-09 1.08185640e-09 9.78464657e-10\n",
      " 9.13446470e-10 6.73355433e-10 4.22314711e-10 3.73671508e-10\n",
      " 2.34407583e-10 2.15019310e-10 1.02377613e-10 4.69300540e-11\n",
      " 4.31296927e-11 3.88513806e-11 2.53828735e-11 2.01663444e-11\n",
      " 1.55282111e-11 1.24811346e-11 1.12178114e-11 7.43114282e-12\n",
      " 6.53467287e-12 5.83657045e-12 5.15275762e-12 4.51698401e-12\n",
      " 4.17780434e-12 4.01208470e-12 3.54758827e-12 2.60079754e-12\n",
      " 2.50431194e-12 1.66736466e-12 1.50722891e-12 1.47789279e-12\n",
      " 1.15991247e-12 1.12869831e-12 1.03337321e-12 8.57501158e-13\n",
      " 7.28050735e-13 6.31890272e-13 5.12618585e-13 4.13865567e-13\n",
      " 3.77424111e-13 3.57435150e-13 3.16858292e-13 2.82059915e-13\n",
      " 2.61357037e-13 2.52450469e-13 2.29066990e-13 2.12403943e-13\n",
      " 1.72230521e-13 1.25549265e-13 1.19296322e-13 8.32789931e-14\n",
      " 6.61835684e-14 5.01682080e-14 4.61690184e-14 4.28140348e-14\n",
      " 3.66413923e-14 3.41313237e-14 3.31917190e-14 2.76341247e-14\n",
      " 1.60041013e-14 1.20472516e-14 8.66461431e-15 2.78962576e-15\n",
      " 4.66109031e-16 1.65837570e-17 2.49973635e-20 2.26021168e-20\n",
      " 9.57734523e-21 7.14902420e-33 7.14902420e-33]\n",
      "Total variance preserved by the first 13 components: 1.00\n"
     ]
    }
   ],
   "source": [
    "pca = PCA()\n",
    "pca.fit(whole_dataset_train)\n",
    "\n",
    "explained_variance_ratio = pca.explained_variance_ratio_\n",
    "\n",
    "# Calculate the total variance preserved by the first 13 components\n",
    "variance_preserved = np.sum(explained_variance_ratio[:13])\n",
    "\n",
    "print(\"Explained variance ratio of each component:\", explained_variance_ratio)\n",
    "print(f\"Total variance preserved by the first 13 components: {variance_preserved:.2f}\")"
   ]
  },
  {
   "cell_type": "markdown",
   "metadata": {
    "id": "PNNu3pWSUNg4",
    "jp-MarkdownHeadingCollapsed": true
   },
   "source": [
    "##### Random Forest with Cross-Validation"
   ]
  },
  {
   "cell_type": "code",
   "execution_count": 43,
   "metadata": {
    "id": "8MY3yN6UxxtG"
   },
   "outputs": [],
   "source": [
    "best_accuracy = 0\n",
    "RFC_fold_accuracies = []\n",
    "accuracy_list_RFC_cv = []\n",
    "n_e = 550     # Number of estimators\n",
    "n_components = 13\n",
    "\n",
    "skf = StratifiedKFold(n_splits=5)"
   ]
  },
  {
   "cell_type": "code",
   "execution_count": 47,
   "metadata": {
    "colab": {
     "base_uri": "https://localhost:8080/"
    },
    "id": "DiBQw-2uujBY",
    "outputId": "99c6afb9-ae88-4cdf-d738-9f7c7619ce29"
   },
   "outputs": [
    {
     "name": "stdout",
     "output_type": "stream",
     "text": [
      "Number of Estimators: 550\n",
      "Number of PCA Components: 13\n",
      "\n",
      "Cross-validation fold Max Accuracy: 0.9220746256028429\n",
      "Average Cross-Validation Accuracy: 0.8359\n",
      "CPU times: user 51min 58s, sys: 6min 52s, total: 58min 51s\n",
      "Wall time: 50min 25s\n"
     ]
    },
    {
     "data": {
      "text/plain": [
       "[0.8358507487943143]"
      ]
     },
     "execution_count": 47,
     "metadata": {},
     "output_type": "execute_result"
    }
   ],
   "source": [
    "%%time\n",
    "for train_index, test_index in skf.split(whole_dataset_train, whole_dataset_label):\n",
    "    # Split data\n",
    "    X_train, X_test = whole_dataset_train.iloc[train_index], whole_dataset_train.iloc[test_index]\n",
    "    y_train, y_test = whole_dataset_label.iloc[train_index], whole_dataset_label.iloc[test_index]\n",
    "\n",
    "    # Define a pipeline with PCA and Random Forest\n",
    "    pipeline = Pipeline([\n",
    "        ('pca', PCA(n_components=n_components)),  # PCA step\n",
    "        ('rf', RandomForestClassifier(n_estimators=n_e, random_state=42))  # Random Forest step\n",
    "    ])\n",
    "\n",
    "    # Fit the pipeline to the training data\n",
    "    pipeline.fit(X_train, y_train)\n",
    "\n",
    "    # Make predictions\n",
    "    y_pred = pipeline.predict(X_test)\n",
    "\n",
    "    # Calculate accuracy\n",
    "    accuracy = accuracy_score(y_test, y_pred)\n",
    "\n",
    "    # Update best model\n",
    "    if accuracy > best_accuracy:\n",
    "        best_accuracy = accuracy\n",
    "        generalized_RFC_model = pipeline  # Save the pipeline as the best model\n",
    "        generalized_test_true_for_RFC_model = y_test\n",
    "        generalized_test_pred_for_RFC_model = y_pred\n",
    "\n",
    "    # Track fold accuracy\n",
    "    RFC_fold_accuracies.append(accuracy)\n",
    "\n",
    "# Calculate average accuracy\n",
    "average_accuracy = np.mean(RFC_fold_accuracies)\n",
    "\n",
    "# Print results\n",
    "print(f\"Number of Estimators: {n_e}\")\n",
    "print(f\"Number of PCA Components: {n_components}\")\n",
    "print(\"\\nCross-validation fold Max Accuracy:\", max(RFC_fold_accuracies))\n",
    "print(f\"Average Cross-Validation Accuracy: {average_accuracy:.4f}\")\n",
    "accuracy_list_RFC_cv.append(average_accuracy)\n",
    "accuracy_list_RFC_cv"
   ]
  },
  {
   "cell_type": "code",
   "execution_count": 48,
   "metadata": {},
   "outputs": [
    {
     "data": {
      "text/plain": [
       "['Trained ML models/generalized_RFC_model_pca.pkl']"
      ]
     },
     "execution_count": 48,
     "metadata": {},
     "output_type": "execute_result"
    }
   ],
   "source": [
    "joblib.dump(generalized_RFC_model, \"Trained ML models/generalized_RFC_model_pca.pkl\")"
   ]
  },
  {
   "cell_type": "markdown",
   "metadata": {
    "id": "HQiuwyK8Ur-d",
    "jp-MarkdownHeadingCollapsed": true
   },
   "source": [
    "##### XGBoost with Cross-Validation"
   ]
  },
  {
   "cell_type": "code",
   "execution_count": 49,
   "metadata": {
    "id": "n9boDLbcbS9u"
   },
   "outputs": [],
   "source": [
    "best_accuracy = 0\n",
    "XGboost_fold_accuracies = []\n",
    "accuracy_list_XGboost_cv = []\n",
    "n_e = 200  # Number of estimators\n",
    "n_components = 13\n",
    "\n",
    "skf = StratifiedKFold(n_splits=5)"
   ]
  },
  {
   "cell_type": "code",
   "execution_count": 50,
   "metadata": {
    "colab": {
     "base_uri": "https://localhost:8080/"
    },
    "id": "OnS1c0mGbi6O",
    "outputId": "64ee9f1c-1317-44f9-9c03-b8b50f1dad4d"
   },
   "outputs": [
    {
     "name": "stdout",
     "output_type": "stream",
     "text": [
      "Number of Estimators: 200\n",
      "Number of PCA Components: 13\n",
      "\n",
      "Cross-validation fold Max Accuracy: 0.9328031136305948\n",
      "Average Cross-Validation Accuracy: 0.8494\n",
      "CPU times: user 3d 18h 38min 18s, sys: 11min 20s, total: 3d 18h 49min 38s\n",
      "Wall time: 24min 20s\n"
     ]
    },
    {
     "data": {
      "text/plain": [
       "[0.849364582451984]"
      ]
     },
     "execution_count": 50,
     "metadata": {},
     "output_type": "execute_result"
    }
   ],
   "source": [
    "%%time\n",
    "for train_index, test_index in skf.split(whole_dataset_train, whole_dataset_label):\n",
    "    # Split data\n",
    "    X_train, X_test = whole_dataset_train.iloc[train_index], whole_dataset_train.iloc[test_index]\n",
    "    y_train, y_test = whole_dataset_label.iloc[train_index], whole_dataset_label.iloc[test_index]\n",
    "\n",
    "    # Define a pipeline with PCA and Random Forest\n",
    "    pipeline = Pipeline([\n",
    "        ('pca', PCA(n_components=n_components)),  # PCA step\n",
    "        ('xgb', XGBClassifier( n_estimators=n_e,objective='multi:softmax', num_class=3,random_state=42))\n",
    "    ])\n",
    "\n",
    "    # Fit the pipeline to the training data\n",
    "    pipeline.fit(X_train, y_train)\n",
    "\n",
    "    # Make predictions\n",
    "    y_pred = pipeline.predict(X_test)\n",
    "\n",
    "    # Calculate accuracy\n",
    "    accuracy = accuracy_score(y_test, y_pred)\n",
    "\n",
    "    # Update best model\n",
    "    if accuracy > best_accuracy:\n",
    "        best_accuracy = accuracy\n",
    "        generalized_XGboost_model = pipeline  # Save the pipeline as the best model\n",
    "        generalized_test_true_for_XGboost_model = y_test\n",
    "        generalized_test_pred_for_XGboost_model = y_pred\n",
    "\n",
    "    # Track fold accuracy\n",
    "    XGboost_fold_accuracies.append(accuracy)\n",
    "\n",
    "# Calculate average accuracy\n",
    "average_accuracy = np.mean(XGboost_fold_accuracies)\n",
    "\n",
    "# Print results\n",
    "print(f\"Number of Estimators: {n_e}\")\n",
    "print(f\"Number of PCA Components: {n_components}\")\n",
    "print(\"\\nCross-validation fold Max Accuracy:\", max(XGboost_fold_accuracies))\n",
    "print(f\"Average Cross-Validation Accuracy: {average_accuracy:.4f}\")\n",
    "accuracy_list_XGboost_cv.append(average_accuracy)\n",
    "accuracy_list_XGboost_cv"
   ]
  },
  {
   "cell_type": "code",
   "execution_count": 51,
   "metadata": {},
   "outputs": [
    {
     "data": {
      "text/plain": [
       "['Trained ML models/generalized_XGBoost_model_pca.pkl']"
      ]
     },
     "execution_count": 51,
     "metadata": {},
     "output_type": "execute_result"
    }
   ],
   "source": [
    "joblib.dump(generalized_XGboost_model, \"Trained ML models/generalized_XGBoost_model_pca.pkl\")"
   ]
  },
  {
   "cell_type": "markdown",
   "metadata": {
    "id": "vCF9QuKANe6q",
    "jp-MarkdownHeadingCollapsed": true
   },
   "source": [
    "#### Linear Discriminant Analysis"
   ]
  },
  {
   "cell_type": "code",
   "execution_count": 63,
   "metadata": {},
   "outputs": [
    {
     "data": {
      "text/plain": [
       "(295475, 75)"
      ]
     },
     "execution_count": 63,
     "metadata": {},
     "output_type": "execute_result"
    }
   ],
   "source": [
    "whole_dataset_train.shape"
   ]
  },
  {
   "cell_type": "markdown",
   "metadata": {
    "id": "PwbD_X7CVi2e",
    "jp-MarkdownHeadingCollapsed": true
   },
   "source": [
    "##### Random Forest with Cross-Validation"
   ]
  },
  {
   "cell_type": "code",
   "execution_count": 64,
   "metadata": {
    "id": "mmdxn2N2yuoq"
   },
   "outputs": [],
   "source": [
    "best_accuracy = 0\n",
    "RFC_fold_accuracies = []\n",
    "accuracy_list_RFC_cv = []\n",
    "n_e = 550  # Number of estimators\n",
    "n_components = 2\n",
    "\n",
    "skf = StratifiedKFold(n_splits=5)"
   ]
  },
  {
   "cell_type": "code",
   "execution_count": 65,
   "metadata": {
    "colab": {
     "base_uri": "https://localhost:8080/"
    },
    "id": "pKJbq83ayw-n",
    "outputId": "55fd6de9-629a-4af6-898a-4d97994cb6e2"
   },
   "outputs": [
    {
     "name": "stdout",
     "output_type": "stream",
     "text": [
      "Number of Estimators: 550\n",
      "Number of LDA Components: 2\n",
      "\n",
      "Cross-validation fold Max Accuracy: 0.9413994415771216\n",
      "Average Cross-Validation Accuracy: 0.8147\n",
      "CPU times: user 20min 12s, sys: 3min 3s, total: 23min 16s\n",
      "Wall time: 19min 14s\n"
     ]
    }
   ],
   "source": [
    "%%time\n",
    "for train_index, test_index in skf.split(whole_dataset_train, whole_dataset_label):\n",
    "    X_train, X_test = whole_dataset_train.iloc[train_index], whole_dataset_train.iloc[test_index]\n",
    "    y_train, y_test = whole_dataset_label.iloc[train_index], whole_dataset_label.iloc[test_index]\n",
    "\n",
    "    # Define a pipeline with LDA and Random Forest\n",
    "    pipeline = Pipeline([\n",
    "        ('lda', LDA(n_components=n_components)),  # LDA step\n",
    "        ('rf', RandomForestClassifier(n_estimators=n_e, random_state=42))  # Random Forest step\n",
    "    ])\n",
    "\n",
    "    # Fit the pipeline to the training data\n",
    "    pipeline.fit(X_train, y_train)\n",
    "\n",
    "    # Make predictions\n",
    "    y_pred = pipeline.predict(X_test)\n",
    "\n",
    "    # Calculate accuracy\n",
    "    accuracy = accuracy_score(y_test, y_pred)\n",
    "\n",
    "    # Update best model\n",
    "    if accuracy > best_accuracy:\n",
    "        best_accuracy = accuracy\n",
    "        generalized_RFC_model = pipeline  # Save the pipeline as the best model\n",
    "        generalized_test_true_for_RFC_model = y_test\n",
    "        generalized_test_pred_for_RFC_model = y_pred\n",
    "\n",
    "    # Track fold accuracy\n",
    "    RFC_fold_accuracies.append(accuracy)\n",
    "\n",
    "# Calculate average accuracy\n",
    "average_accuracy = np.mean(RFC_fold_accuracies)\n",
    "\n",
    "# Print results\n",
    "print(f\"Number of Estimators: {n_e}\")\n",
    "print(f\"Number of LDA Components: {n_components if n_components else 'All (up to min(n_classes-1, n_features))'}\")\n",
    "print(\"\\nCross-validation fold Max Accuracy:\", max(RFC_fold_accuracies))\n",
    "print(f\"Average Cross-Validation Accuracy: {average_accuracy:.4f}\")\n",
    "accuracy_list_RFC_cv.append(average_accuracy)"
   ]
  },
  {
   "cell_type": "markdown",
   "metadata": {
    "id": "F5qIRq8TVroh"
   },
   "source": [
    "##### XGBoost with Cross-Validation"
   ]
  },
  {
   "cell_type": "code",
   "execution_count": 66,
   "metadata": {
    "id": "0ofWTBcbcr7e"
   },
   "outputs": [],
   "source": [
    "best_accuracy = 0\n",
    "XGboost_fold_accuracies = []\n",
    "accuracy_list_XGboost_cv = []\n",
    "n_e = 200 # Number of estimators\n",
    "n_components = 2\n",
    "\n",
    "skf = StratifiedKFold(n_splits=5)"
   ]
  },
  {
   "cell_type": "code",
   "execution_count": 67,
   "metadata": {
    "colab": {
     "base_uri": "https://localhost:8080/"
    },
    "id": "VbEpuOTgc-cF",
    "outputId": "f57b115e-dd20-41d6-857d-e7a6d7b32523"
   },
   "outputs": [
    {
     "name": "stdout",
     "output_type": "stream",
     "text": [
      "Number of Estimators: 200\n",
      "Number of LDA Components: 2\n",
      "\n",
      "Cross-validation fold Max Accuracy: 0.949149674253321\n",
      "Average Cross-Validation Accuracy: 0.8213\n",
      "CPU times: user 3d 23h 3min 13s, sys: 7min 49s, total: 3d 23h 11min 2s\n",
      "Wall time: 27min 5s\n"
     ]
    }
   ],
   "source": [
    "%%time\n",
    "for train_index, test_index in skf.split(whole_dataset_train, whole_dataset_label):\n",
    "    # Split data\n",
    "    X_train, X_test = whole_dataset_train.iloc[train_index], whole_dataset_train.iloc[test_index]\n",
    "    y_train, y_test = whole_dataset_label.iloc[train_index], whole_dataset_label.iloc[test_index]\n",
    "\n",
    "    # Define a pipeline with LDA and Random Forest\n",
    "    pipeline = Pipeline([\n",
    "        ('lda', LDA(n_components=n_components)),  # LDA step\n",
    "        ('xgb', XGBClassifier( n_estimators=n_e,objective='multi:softmax', num_class=3,random_state=42))\n",
    "    ])\n",
    "\n",
    "    # Fit the pipeline to the training data\n",
    "    pipeline.fit(X_train, y_train)\n",
    "\n",
    "    # Make predictions\n",
    "    y_pred = pipeline.predict(X_test)\n",
    "\n",
    "    # Calculate accuracy\n",
    "    accuracy = accuracy_score(y_test, y_pred)\n",
    "\n",
    "    # Update best model\n",
    "    if accuracy > best_accuracy:\n",
    "        best_accuracy = accuracy\n",
    "        generalized_XGboost_model = pipeline  # Save the pipeline as the best model\n",
    "        generalized_test_true_for_XGboost_model = y_test\n",
    "        generalized_test_pred_for_XGboost_model = y_pred\n",
    "\n",
    "    # Track fold accuracy\n",
    "    XGboost_fold_accuracies.append(accuracy)\n",
    "\n",
    "# Calculate average accuracy\n",
    "average_accuracy = np.mean(XGboost_fold_accuracies)\n",
    "\n",
    "# Print results\n",
    "print(f\"Number of Estimators: {n_e}\")\n",
    "print(f\"Number of LDA Components: {n_components if n_components else 'All (up to min(n_classes-1, n_features))'}\")\n",
    "print(\"\\nCross-validation fold Max Accuracy:\", max(XGboost_fold_accuracies))\n",
    "print(f\"Average Cross-Validation Accuracy: {average_accuracy:.4f}\")\n",
    "accuracy_list_XGboost_cv.append(average_accuracy)"
   ]
  },
  {
   "cell_type": "markdown",
   "metadata": {
    "id": "qXjkokQZBnOB"
   },
   "source": [
    "### Feature Selection (Best 13)"
   ]
  },
  {
   "cell_type": "markdown",
   "metadata": {
    "id": "QvGO0_OhBsUw"
   },
   "source": [
    "#### Correlation"
   ]
  },
  {
   "cell_type": "code",
   "execution_count": 30,
   "metadata": {
    "colab": {
     "base_uri": "https://localhost:8080/"
    },
    "id": "rYSVch7SO-Hk",
    "outputId": "57713628-e706-45fb-a83a-31f6841bc8ef"
   },
   "outputs": [
    {
     "data": {
      "text/plain": [
       "(295475, 77)"
      ]
     },
     "execution_count": 30,
     "metadata": {},
     "output_type": "execute_result"
    }
   ],
   "source": [
    "whole_dataset.shape"
   ]
  },
  {
   "cell_type": "code",
   "execution_count": 31,
   "metadata": {
    "colab": {
     "base_uri": "https://localhost:8080/",
     "height": 458
    },
    "id": "KmHj06X2OqHe",
    "outputId": "15866b89-317f-4bbd-a723-1e2261ef4d2e"
   },
   "outputs": [
    {
     "data": {
      "text/plain": [
       "Memory(% Committed Bytes In Use)                  0.837233\n",
       "Processor Information(% Processor Utility)        0.793600\n",
       "Processor Information(% Processor Time)           0.518979\n",
       "Processor(% Processor Time)                       0.518818\n",
       "Processor Information(% Processor Performance)    0.470138\n",
       "                                                    ...   \n",
       "Flow Byts/s                                       0.001481\n",
       "Bwd IAT Mean                                      0.001357\n",
       "Fwd Act Data Pkts                                 0.000099\n",
       "Fwd IAT Std                                       0.000087\n",
       "Tot Fwd Pkts                                      0.000060\n",
       "Length: 75, dtype: float64"
      ]
     },
     "execution_count": 31,
     "metadata": {},
     "output_type": "execute_result"
    }
   ],
   "source": [
    "whole_dataset_corr = whole_dataset.drop([\"Timestamp\"], axis=1)\n",
    "X = whole_dataset_corr.drop('Label', axis=1)\n",
    "y = whole_dataset_corr['Label']\n",
    "selected_features_label = y\n",
    "correlation_with_target = X.corrwith(y).abs().sort_values(ascending=False)\n",
    "correlation_with_target"
   ]
  },
  {
   "cell_type": "code",
   "execution_count": 32,
   "metadata": {
    "colab": {
     "base_uri": "https://localhost:8080/",
     "height": 491
    },
    "id": "IHLq9GN9ReYb",
    "outputId": "36e45803-ec1e-4415-bc7f-7234ff9735dd"
   },
   "outputs": [
    {
     "data": {
      "text/plain": [
       "Memory(% Committed Bytes In Use)                  0.837233\n",
       "Processor Information(% Processor Utility)        0.793600\n",
       "Processor Information(% Processor Time)           0.518979\n",
       "Processor(% Processor Time)                       0.518818\n",
       "Processor Information(% Processor Performance)    0.470138\n",
       "Network Interface(Current Bandwidth)              0.080037\n",
       "Src Port                                          0.038888\n",
       "Dst Port                                          0.036686\n",
       "Protocol                                          0.034586\n",
       "Bwd Pkts/s                                        0.034121\n",
       "FIN Flag Cnt                                      0.030951\n",
       "Init Bwd Win Byts                                 0.029231\n",
       "Pkt Size Avg                                      0.028502\n",
       "dtype: float64"
      ]
     },
     "execution_count": 32,
     "metadata": {},
     "output_type": "execute_result"
    }
   ],
   "source": [
    "selected_features = correlation_with_target.head(13)\n",
    "selected_features"
   ]
  },
  {
   "cell_type": "code",
   "execution_count": 33,
   "metadata": {
    "colab": {
     "base_uri": "https://localhost:8080/"
    },
    "id": "qHPQYIQVSem3",
    "outputId": "1497d6e9-b253-4f2e-ab3e-460846b04b38"
   },
   "outputs": [
    {
     "data": {
      "text/plain": [
       "['Memory(% Committed Bytes In Use)',\n",
       " 'Processor Information(% Processor Utility)',\n",
       " 'Processor Information(% Processor Time)',\n",
       " 'Processor(% Processor Time)',\n",
       " 'Processor Information(% Processor Performance)',\n",
       " 'Network Interface(Current Bandwidth)',\n",
       " 'Src Port',\n",
       " 'Dst Port',\n",
       " 'Protocol',\n",
       " 'Bwd Pkts/s',\n",
       " 'FIN Flag Cnt',\n",
       " 'Init Bwd Win Byts',\n",
       " 'Pkt Size Avg']"
      ]
     },
     "execution_count": 33,
     "metadata": {},
     "output_type": "execute_result"
    }
   ],
   "source": [
    "selected_features = correlation_with_target.head(13).index.tolist()\n",
    "selected_features"
   ]
  },
  {
   "cell_type": "code",
   "execution_count": 34,
   "metadata": {
    "colab": {
     "base_uri": "https://localhost:8080/",
     "height": 1000
    },
    "id": "1bqdjgTWRjB8",
    "outputId": "39b26c32-c82c-4a9e-b704-dd7ff0ea0a0e"
   },
   "outputs": [
    {
     "data": {
      "image/png": "[encoded data removed]",
      "text/plain": [
       "<Figure size 1000x800 with 2 Axes>"
      ]
     },
     "metadata": {},
     "output_type": "display_data"
    }
   ],
   "source": [
    "selected_features_data = whole_dataset_corr[selected_features]\n",
    "selected_correlation_matrix = selected_features_data.corr()\n",
    "plt.figure(figsize=(10, 8))\n",
    "sns.heatmap(selected_correlation_matrix, annot=True, fmt='.2f', cmap='coolwarm', cbar=True)\n",
    "plt.title('Feature Correlation Heatmap (Selected Features)')\n",
    "plt.show()"
   ]
  },
  {
   "cell_type": "markdown",
   "metadata": {
    "jp-MarkdownHeadingCollapsed": true
   },
   "source": [
    "##### Random Forest with Cross Validation"
   ]
  },
  {
   "cell_type": "code",
   "execution_count": 35,
   "metadata": {
    "id": "UXMdv5RwSVnP"
   },
   "outputs": [],
   "source": [
    "from sklearn.ensemble import RandomForestClassifier\n",
    "from sklearn.metrics import accuracy_score, classification_report\n",
    "from sklearn.model_selection import StratifiedKFold\n",
    "import numpy as np"
   ]
  },
  {
   "cell_type": "code",
   "execution_count": 36,
   "metadata": {
    "colab": {
     "base_uri": "https://localhost:8080/"
    },
    "id": "opkZN8xYStwB",
    "outputId": "3ac5e526-5c06-4628-b0aa-cba9e58a9f86"
   },
   "outputs": [
    {
     "data": {
      "text/plain": [
       "((295475, 13), (295475,))"
      ]
     },
     "execution_count": 36,
     "metadata": {},
     "output_type": "execute_result"
    }
   ],
   "source": [
    "selected_features_data.shape, selected_features_label.shape"
   ]
  },
  {
   "cell_type": "code",
   "execution_count": 37,
   "metadata": {
    "id": "8VFiDHM2SEhA"
   },
   "outputs": [],
   "source": [
    "n_estimators = 550\n",
    "best_accuracy = 0\n",
    "generalized_RFC_model = None\n",
    "generalized_test_true_for_RFC_model = None\n",
    "generalized_test_pred_for_RFC_model = None\n",
    "accuracy_list_RFC_cv = []"
   ]
  },
  {
   "cell_type": "code",
   "execution_count": 38,
   "metadata": {
    "colab": {
     "base_uri": "https://localhost:8080/"
    },
    "id": "C3D42TNbSXH6",
    "outputId": "cedb9d27-ea58-47e4-e885-cd18aebebb9d"
   },
   "outputs": [
    {
     "name": "stdout",
     "output_type": "stream",
     "text": [
      "Cross-Validation Accuracy in each fold:  [0.9962264150943396, 0.99617564937812, 0.9962771808105593, 0.9956510703105169, 0.9956341484051104]\n",
      "Cross-Validation Fold Max Accuracy: 0.9962771808105593\n",
      "Average Cross-Validation Accuracy: 0.9960\n",
      "\n",
      "\n",
      "Best Model Details:\n",
      "Best Accuracy Observed: 0.9963\n",
      "Classification Report for Best Model:\n",
      "               precision    recall  f1-score   support\n",
      "\n",
      "           0       1.00      1.00      1.00     19309\n",
      "           1       1.00      0.99      0.99     19611\n",
      "           2       0.99      1.00      1.00     20175\n",
      "\n",
      "    accuracy                           1.00     59095\n",
      "   macro avg       1.00      1.00      1.00     59095\n",
      "weighted avg       1.00      1.00      1.00     59095\n",
      "\n",
      "CPU times: user 25min 28s, sys: 806 ms, total: 25min 29s\n",
      "Wall time: 25min 30s\n"
     ]
    }
   ],
   "source": [
    "%%time\n",
    "\n",
    "skf = StratifiedKFold(n_splits=5, shuffle=True, random_state=42)\n",
    "RFC_fold_accuracies = []\n",
    "\n",
    "for train_index, test_index in skf.split(selected_features_data, selected_features_label):\n",
    "    X_train_rfc, X_test_rfc = selected_features_data.iloc[train_index], selected_features_data.iloc[test_index]\n",
    "    y_train_rfc, y_test_rfc = selected_features_label.iloc[train_index], selected_features_label.iloc[test_index]\n",
    "\n",
    "    model = RandomForestClassifier(n_estimators=n_estimators, random_state=42)\n",
    "    model.fit(X_train_rfc, y_train_rfc)\n",
    "\n",
    "    y_pred = model.predict(X_test_rfc)\n",
    "    accuracy = accuracy_score(y_test_rfc, y_pred)\n",
    "\n",
    "    if accuracy > best_accuracy:\n",
    "        best_accuracy = accuracy\n",
    "        generalized_RFC_model = model\n",
    "        generalized_test_true_for_RFC_model = y_test_rfc\n",
    "        generalized_test_pred_for_RFC_model = y_pred\n",
    "\n",
    "    RFC_fold_accuracies.append(accuracy)\n",
    "\n",
    "average_accuracy = np.mean(RFC_fold_accuracies)\n",
    "print(\"Cross-Validation Accuracy in each fold: \", RFC_fold_accuracies)\n",
    "print(\"Cross-Validation Fold Max Accuracy:\", max(RFC_fold_accuracies))\n",
    "print(f\"Average Cross-Validation Accuracy: {average_accuracy:.4f}\\n\")\n",
    "\n",
    "print(\"\\nBest Model Details:\")\n",
    "print(f\"Best Accuracy Observed: {best_accuracy:.4f}\")\n",
    "print(\"Classification Report for Best Model:\\n\",\n",
    "      classification_report(generalized_test_true_for_RFC_model, generalized_test_pred_for_RFC_model))"
   ]
  },
  {
   "cell_type": "code",
   "execution_count": 42,
   "metadata": {},
   "outputs": [
    {
     "data": {
      "text/plain": [
       "['Trained ML models/generalized_RFC_model_13_best_features.pkl']"
      ]
     },
     "execution_count": 42,
     "metadata": {},
     "output_type": "execute_result"
    }
   ],
   "source": [
    "joblib.dump(generalized_RFC_model, \"Trained ML models/generalized_RFC_model_13_best_features.pkl\")"
   ]
  },
  {
   "cell_type": "markdown",
   "metadata": {
    "jp-MarkdownHeadingCollapsed": true
   },
   "source": [
    "##### XGBoost with Cross Validation"
   ]
  },
  {
   "cell_type": "code",
   "execution_count": 39,
   "metadata": {},
   "outputs": [],
   "source": [
    "n_estimators = 200\n",
    "best_accuracy = 0\n",
    "generalized_XG_model = None\n",
    "generalized_test_true_for_XG_model = None\n",
    "generalized_test_pred_for_XG_model = None\n",
    "accuracy_list_XG_cv = []"
   ]
  },
  {
   "cell_type": "code",
   "execution_count": 40,
   "metadata": {},
   "outputs": [
    {
     "name": "stdout",
     "output_type": "stream",
     "text": [
      "Cross-Validation Accuracy in each fold:  [0.9986462475674761, 0.9984770285134106, 0.9985785599458499, 0.9986462475674761, 0.9983585751755648]\n",
      "Cross-Validation Fold Max Accuracy: 0.9986462475674761\n",
      "Average Cross-Validation Accuracy: 0.9985\n",
      "\n",
      "\n",
      "Best Model Details:\n",
      "Best Accuracy Observed: 0.9986\n",
      "Classification Report for Best Model:\n",
      "               precision    recall  f1-score   support\n",
      "\n",
      "           0       1.00      1.00      1.00     19310\n",
      "           1       1.00      1.00      1.00     19611\n",
      "           2       1.00      1.00      1.00     20174\n",
      "\n",
      "    accuracy                           1.00     59095\n",
      "   macro avg       1.00      1.00      1.00     59095\n",
      "weighted avg       1.00      1.00      1.00     59095\n",
      "\n",
      "CPU times: user 3d 18h 55min, sys: 7min 14s, total: 3d 19h 2min 15s\n",
      "Wall time: 33min 3s\n"
     ]
    }
   ],
   "source": [
    "%%time\n",
    "\n",
    "skf = StratifiedKFold(n_splits=5, shuffle=True, random_state=42)\n",
    "XG_fold_accuracies = []\n",
    "\n",
    "for train_index, test_index in skf.split(selected_features_data, selected_features_label):\n",
    "    X_train_XG, X_test_XG = selected_features_data.iloc[train_index], selected_features_data.iloc[test_index]\n",
    "    y_train_XG, y_test_XG = selected_features_label.iloc[train_index], selected_features_label.iloc[test_index]\n",
    "\n",
    "    model = XGBClassifier( n_estimators=n_estimators,\n",
    "                             random_state=42)\n",
    "    model.fit(X_train_XG, y_train_XG)\n",
    "\n",
    "    y_pred = model.predict(X_test_XG)\n",
    "    accuracy = accuracy_score(y_test_XG, y_pred)\n",
    "\n",
    "    if accuracy > best_accuracy:\n",
    "        best_accuracy = accuracy\n",
    "        generalized_XG_model = model\n",
    "        generalized_test_true_for_XG_model = y_test_XG\n",
    "        generalized_test_pred_for_XG_model = y_pred\n",
    "\n",
    "    XG_fold_accuracies.append(accuracy)\n",
    "\n",
    "average_accuracy = np.mean(XG_fold_accuracies)\n",
    "print(\"Cross-Validation Accuracy in each fold: \", XG_fold_accuracies)\n",
    "print(\"Cross-Validation Fold Max Accuracy:\", max(XG_fold_accuracies))\n",
    "print(f\"Average Cross-Validation Accuracy: {average_accuracy:.4f}\\n\")\n",
    "\n",
    "print(\"\\nBest Model Details:\")\n",
    "print(f\"Best Accuracy Observed: {best_accuracy:.4f}\")\n",
    "print(\"Classification Report for Best Model:\\n\",\n",
    "      classification_report(generalized_test_true_for_XG_model, generalized_test_pred_for_XG_model))"
   ]
  },
  {
   "cell_type": "code",
   "execution_count": 41,
   "metadata": {},
   "outputs": [
    {
     "data": {
      "text/plain": [
       "['Trained ML models/generalized_XG_model_13_best_features.pkl']"
      ]
     },
     "execution_count": 41,
     "metadata": {},
     "output_type": "execute_result"
    }
   ],
   "source": [
    "joblib.dump(generalized_XG_model, \"Trained ML models/generalized_XG_model_13_best_features.pkl\")"
   ]
  },
  {
   "cell_type": "code",
   "execution_count": null,
   "metadata": {},
   "outputs": [],
   "source": []
  }
 ],
 "metadata": {
  "colab": {
   "collapsed_sections": [
    "PKQFG5w58rIM",
    "jb1ZaRWt7MsC",
    "v4YKIqy_8Bso",
    "ArxQByII69rm",
    "VFY_9E4m9dem",
    "PPxQObeLTDK7",
    "8BwNSCml2e7E",
    "EYgsKK2Ie-Vu",
    "PNNu3pWSUNg4",
    "HQiuwyK8Ur-d",
    "vCF9QuKANe6q",
    "PwbD_X7CVi2e",
    "F5qIRq8TVroh",
    "qXjkokQZBnOB"
   ],
   "provenance": []
  },
  "kernelspec": {
   "display_name": "Python 3 (ipykernel)",
   "language": "python",
   "name": "python3"
  },
  "language_info": {
   "codemirror_mode": {
    "name": "ipython",
    "version": 3
   },
   "file_extension": ".py",
   "mimetype": "text/x-python",
   "name": "python",
   "nbconvert_exporter": "python",
   "pygments_lexer": "ipython3",
   "version": "3.11.6"
  }
 },
 "nbformat": 4,
 "nbformat_minor": 4
}
